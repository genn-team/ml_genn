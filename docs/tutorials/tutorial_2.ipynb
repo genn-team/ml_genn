{
  "cells": [
    {
      "cell_type": "markdown",
      "metadata": {
        "id": "lGa0_oLb61zz"
      },
      "source": [
        "# Tutorial 2\n",
        "In this tutorial, we are going to directly train a simple SNN with a single hidden layer using e-prop on the MNIST dataset, converted to a latency spike code.\n",
        "\n",
        "Clearly, this is far from a state of the art architecture, but it still achieves 94% accuracy on MNIST.\n",
        "\n",
        "## Install\n",
        "Download wheel file"
      ]
    },
    {
      "cell_type": "code",
      "execution_count": 1,
      "metadata": {
        "colab": {
          "base_uri": "https://localhost:8080/"
        },
        "id": "t2ihZLXh5VD-",
        "outputId": "9ff84a90-55bd-4f27-aaa2-656741694264"
      },
      "outputs": [
        {
          "output_type": "stream",
          "name": "stdout",
          "text": [
            "Downloading...\n",
            "From: https://drive.google.com/uc?id=1OJH0FAR4GRsvIKkHw0NBM-9aYU2VJ1bo\n",
            "To: /content/pygenn-5.1.0-cp310-cp310-linux_x86_64.whl\n",
            "100% 8.47M/8.47M [00:00<00:00, 48.8MB/s]\n",
            "Processing ./pygenn-5.1.0-cp310-cp310-linux_x86_64.whl\n",
            "Requirement already satisfied: numpy>=1.17 in /usr/local/lib/python3.10/dist-packages (from pygenn==5.1.0) (1.26.4)\n",
            "Requirement already satisfied: psutil in /usr/local/lib/python3.10/dist-packages (from pygenn==5.1.0) (5.9.5)\n",
            "Requirement already satisfied: setuptools in /usr/local/lib/python3.10/dist-packages (from pygenn==5.1.0) (75.1.0)\n",
            "pygenn is already installed with the same version as the provided wheel. Use --force-reinstall to force an installation of the wheel.\n",
            "env: CUDA_PATH=/usr/local/cuda\n",
            "--2024-12-02 10:30:03--  https://github.com/genn-team/ml_genn/archive/refs/tags/ml_genn_2_3_0.zip\n",
            "Resolving github.com (github.com)... 140.82.112.4\n",
            "Connecting to github.com (github.com)|140.82.112.4|:443... connected.\n",
            "HTTP request sent, awaiting response... 302 Found\n",
            "Location: https://codeload.github.com/genn-team/ml_genn/zip/refs/tags/ml_genn_2_3_0 [following]\n",
            "--2024-12-02 10:30:03--  https://codeload.github.com/genn-team/ml_genn/zip/refs/tags/ml_genn_2_3_0\n",
            "Resolving codeload.github.com (codeload.github.com)... 140.82.112.10\n",
            "Connecting to codeload.github.com (codeload.github.com)|140.82.112.10|:443... connected.\n",
            "HTTP request sent, awaiting response... 200 OK\n",
            "Length: unspecified [application/zip]\n",
            "Saving to: ‘ml_genn_2_3_0.zip.1’\n",
            "\n",
            "ml_genn_2_3_0.zip.1     [  <=>               ] 681.24K  1.99MB/s    in 0.3s    \n",
            "\n",
            "2024-12-02 10:30:04 (1.99 MB/s) - ‘ml_genn_2_3_0.zip.1’ saved [697592]\n",
            "\n",
            "Processing ./ml_genn-ml_genn_2_3_0/ml_genn\n",
            "  Preparing metadata (setup.py) ... \u001b[?25l\u001b[?25hdone\n",
            "Requirement already satisfied: pygenn<6.0.0,>=5.1.0 in /usr/local/lib/python3.10/dist-packages (from ml_genn==2.3.0) (5.1.0)\n",
            "Collecting enum-compat (from ml_genn==2.3.0)\n",
            "  Using cached enum_compat-0.0.3-py3-none-any.whl.metadata (954 bytes)\n",
            "Requirement already satisfied: tqdm>=4.27.0 in /usr/local/lib/python3.10/dist-packages (from ml_genn==2.3.0) (4.66.6)\n",
            "Requirement already satisfied: deprecated in /usr/local/lib/python3.10/dist-packages (from ml_genn==2.3.0) (1.2.15)\n",
            "Requirement already satisfied: numpy>=1.17 in /usr/local/lib/python3.10/dist-packages (from pygenn<6.0.0,>=5.1.0->ml_genn==2.3.0) (1.26.4)\n",
            "Requirement already satisfied: psutil in /usr/local/lib/python3.10/dist-packages (from pygenn<6.0.0,>=5.1.0->ml_genn==2.3.0) (5.9.5)\n",
            "Requirement already satisfied: setuptools in /usr/local/lib/python3.10/dist-packages (from pygenn<6.0.0,>=5.1.0->ml_genn==2.3.0) (75.1.0)\n",
            "Requirement already satisfied: wrapt<2,>=1.10 in /usr/local/lib/python3.10/dist-packages (from deprecated->ml_genn==2.3.0) (1.16.0)\n",
            "Using cached enum_compat-0.0.3-py3-none-any.whl (1.3 kB)\n",
            "Building wheels for collected packages: ml_genn\n",
            "  Building wheel for ml_genn (setup.py) ... \u001b[?25l\u001b[?25hdone\n",
            "  Created wheel for ml_genn: filename=ml_genn-2.3.0-py3-none-any.whl size=131136 sha256=2e6d68ecae0f1d072cff99ddf9c9602cbad93308a3d142c02b4b9519105488c6\n",
            "  Stored in directory: /tmp/pip-ephem-wheel-cache-00yzieqx/wheels/5d/39/1d/8b5dd13aa67195efd8150593ac67df541350d8c71b1cc938d2\n",
            "Successfully built ml_genn\n",
            "Installing collected packages: enum-compat, ml_genn\n",
            "Successfully installed enum-compat-0.0.3 ml_genn-2.3.0\n"
          ]
        }
      ],
      "source": [
        "if \"google.colab\" in str(get_ipython()):\n",
        "    !gdown 1OJH0FAR4GRsvIKkHw0NBM-9aYU2VJ1bo\n",
        "    !pip install pygenn-5.1.0-cp310-cp310-linux_x86_64.whl\n",
        "    %env CUDA_PATH=/usr/local/cuda\n",
        "\n",
        "    !rm -rf /content/ml_genn-ml_genn_2_3_0\n",
        "    !wget https://github.com/genn-team/ml_genn/archive/refs/tags/ml_genn_2_3_0.zip\n",
        "    !unzip -q ml_genn_2_3_0.zip\n",
        "    !pip install ./ml_genn-ml_genn_2_3_0/ml_genn"
      ]
    },
    {
      "cell_type": "markdown",
      "source": [
        "## Install MNIST package"
      ],
      "metadata": {
        "id": "KVRtXVzIg07T"
      }
    },
    {
      "cell_type": "code",
      "source": [
        "!pip install mnist"
      ],
      "metadata": {
        "colab": {
          "base_uri": "https://localhost:8080/"
        },
        "id": "AikBc4sfg1b-",
        "outputId": "24b3bc99-9b63-46e0-c4d8-a2bd005af6cf"
      },
      "execution_count": 2,
      "outputs": [
        {
          "output_type": "stream",
          "name": "stdout",
          "text": [
            "Requirement already satisfied: mnist in /usr/local/lib/python3.10/dist-packages (0.2.2)\n",
            "Requirement already satisfied: numpy in /usr/local/lib/python3.10/dist-packages (from mnist) (1.26.4)\n"
          ]
        }
      ]
    },
    {
      "cell_type": "markdown",
      "metadata": {
        "id": "BwadUz9Azxss"
      },
      "source": [
        "## Build model\n",
        "Import standard modules and required mlGeNN classes"
      ]
    },
    {
      "cell_type": "code",
      "execution_count": 3,
      "metadata": {
        "id": "agqWFZjickfU"
      },
      "outputs": [],
      "source": [
        "import mnist\n",
        "import numpy as np\n",
        "import matplotlib.pyplot as plt\n",
        "\n",
        "from ml_genn import InputLayer, Layer, SequentialNetwork\n",
        "from ml_genn.callbacks import Checkpoint\n",
        "from ml_genn.compilers import EPropCompiler, InferenceCompiler\n",
        "from ml_genn.connectivity import Dense,FixedProbability\n",
        "from ml_genn.initializers import Normal\n",
        "from ml_genn.neurons import LeakyIntegrate, LeakyIntegrateFire, SpikeInput\n",
        "from ml_genn.serialisers import Numpy\n",
        "\n",
        "from ml_genn.utils.data import (calc_latest_spike_time, log_latency_encode_data)\n",
        "\n",
        "from ml_genn.compilers.eprop_compiler import default_params"
      ]
    },
    {
      "cell_type": "markdown",
      "source": [
        "\n",
        "##Parameters\n",
        "\n",
        "Define some model parameters\n"
      ],
      "metadata": {
        "id": "X2hcCpdlzaZA"
      }
    },
    {
      "cell_type": "code",
      "source": [
        "NUM_INPUT = 28 * 28\n",
        "NUM_HIDDEN = 128\n",
        "NUM_OUTPUT = 10\n",
        "BATCH_SIZE = 128"
      ],
      "metadata": {
        "id": "x87G22iUzcEU"
      },
      "execution_count": 4,
      "outputs": []
    },
    {
      "cell_type": "markdown",
      "source": [],
      "metadata": {
        "id": "jk7HbKtu2aAV"
      }
    },
    {
      "cell_type": "markdown",
      "source": [
        "## Latency encoding\n",
        "There are numerous ways to encode images using spikes but here we are going to emit a single spike for each neuron at a time calculated as follows from the pixel grayscale $x$:\n",
        "\\begin{align}\n",
        "    T(x) = \\begin{cases}\n",
        "        \\tau_\\text{eff} \\log\\left(\\frac{x}{x-\\theta}  \\right) & x > \\theta\\\\\n",
        "        \\infty & otherwise\\\\\n",
        "    \\end{cases}\n",
        "\\end{align}\n",
        "where $\\tau_\\text{eff}=20\\text{ms}$ and $\\theta=51$."
      ],
      "metadata": {
        "id": "op6AInYzviqh"
      }
    },
    {
      "cell_type": "code",
      "source": [
        "mnist.datasets_url = \"https://storage.googleapis.com/cvdf-datasets/mnist/\"\n",
        "train_spikes = log_latency_encode_data(mnist.train_images(), 20.0, 51)"
      ],
      "metadata": {
        "id": "2m9780SfvWec"
      },
      "execution_count": 5,
      "outputs": []
    },
    {
      "cell_type": "markdown",
      "metadata": {
        "id": "iuwdL6IE2MuS"
      },
      "source": [
        "## Network definition\n",
        "Because our network is entirely feedforward, we can define it as a ``SequentialNetwork`` where each layer is automatically connected to the previous layer. As we have converted the MNIST dataset to spikes, we will use a ``SpikeInput`` to inject these directly into the network. For our hidden layer we are going to use standard Leaky integrate-and-fire neurons as this task does not require more computationally expensive adaptive LIF neurons. Finally, we are going to use a non-spiking output layer and read classifications out of this by determining the maximum of the summed membrane voltages of the output neurons.\n",
        "\n"
      ]
    },
    {
      "cell_type": "code",
      "execution_count": 6,
      "metadata": {
        "id": "C68EDXn6cj-O"
      },
      "outputs": [],
      "source": [
        "# Create sequential model\n",
        "serialiser = Numpy(\"latency_mnist_checkpoints\")\n",
        "network = SequentialNetwork(default_params)\n",
        "with network:\n",
        "    # Populations\n",
        "    input = InputLayer(SpikeInput(max_spikes=BATCH_SIZE * NUM_INPUT),\n",
        "                                  NUM_INPUT)\n",
        "    hidden = Layer(Dense(Normal(sd=1.0 / np.sqrt(NUM_INPUT))),\n",
        "                   LeakyIntegrateFire(v_thresh=0.61, tau_mem=20.0,\n",
        "                                      tau_refrac=5.0),\n",
        "                   NUM_HIDDEN)\n",
        "    output = Layer(Dense(Normal(sd=1.0 / np.sqrt(NUM_HIDDEN))),\n",
        "                   LeakyIntegrate(tau_mem=20.0, readout=\"sum_var\"),\n",
        "                   NUM_OUTPUT)"
      ]
    },
    {
      "cell_type": "markdown",
      "metadata": {
        "id": "9PCMgNPCz86O"
      },
      "source": [
        "## Compilation\n",
        "In mlGeNN, in order to turn an abstract network description into something that can actually be used for training or inference you use a *compiler* class. Here, we use the ``EPropCompiler`` to train with e-prop and specify batch size and how many timesteps to evaluate each example for as well as choosing our optimiser and loss function. Because this is a classification task, we want to use cross-entropy loss and, because our labels are specified in this way (rather than e.g. one-hot encoded), we use the sparse catgorical variant."
      ]
    },
    {
      "cell_type": "code",
      "execution_count": 7,
      "metadata": {
        "id": "-7lzXzmQcgbt"
      },
      "outputs": [],
      "source": [
        "max_example_timesteps = int(np.ceil(calc_latest_spike_time(train_spikes)))\n",
        "compiler = EPropCompiler(example_timesteps=max_example_timesteps,\n",
        "                         losses=\"sparse_categorical_crossentropy\",\n",
        "                         optimiser=\"adam\", batch_size=BATCH_SIZE)\n",
        "compiled_net = compiler.compile(network)"
      ]
    },
    {
      "cell_type": "markdown",
      "metadata": {
        "id": "ATwobw4Mw2LG"
      },
      "source": [
        "## Training\n",
        "Now we will train the model for 10 epochs using our compiled network. To verify it's performance we take 10% of the training data as a validation split and add an additional callback to checkpoint weights every epoch.\n",
        "\n"
      ]
    },
    {
      "cell_type": "code",
      "execution_count": 8,
      "metadata": {
        "id": "EEQyoL-zcu-A",
        "outputId": "fbaf6b37-faf1-4f03-fafc-739e3d1b2e70",
        "colab": {
          "base_uri": "https://localhost:8080/",
          "height": 81,
          "referenced_widgets": [
            "74b91aa9a5ac43caab70ed9ed0360fa7",
            "8dc785c2d6eb4fa8856a48849a8193cc",
            "d6784998f5ec4ebe994dcc24d8231696",
            "79bc87c4272248c4a8d48441a69ef9a3",
            "9305bbc25a4f4c4f8030cbb5f1a022da",
            "224907234c6941809223c4af01282fb0",
            "3836f0f67d0644d8bee7697659a505ca",
            "27acadc8d0cb40eb8328ed9d3326b915",
            "966a4ab1cef54911b370c67ae8056d48",
            "162bae83568242c9a9c9d032d9c9776e",
            "83bc53648acd471fb1bb12944b63347d",
            "27c30c4e3a964d888db609eb7a680368",
            "425d4f5aedaa46e08f27ebb5b0c146b8",
            "a1b374c97f9546c7b65b7f882f232b9f",
            "894f12224b22411c927e377ba7ce7d87",
            "328f2fd898be47f4904edc876afddce5",
            "be79f9e7e1e346519cddfa3b38f78ff0",
            "ccfdbb1e20994ae0afac11def8cd1cd2",
            "9cdac34499ff4b2d9a2dae1bb787de83",
            "5639668a755a4e5d88570735411a91b6",
            "385026addef74f24a6cbd00f95b26660",
            "4fe809ac84b34ca490e0c95abab8b1d8"
          ]
        }
      },
      "outputs": [
        {
          "output_type": "display_data",
          "data": {
            "text/plain": [
              "  0%|          | 0/422 [00:00<?, ?it/s]"
            ],
            "application/vnd.jupyter.widget-view+json": {
              "version_major": 2,
              "version_minor": 0,
              "model_id": "74b91aa9a5ac43caab70ed9ed0360fa7"
            }
          },
          "metadata": {}
        },
        {
          "output_type": "display_data",
          "data": {
            "text/plain": [
              "  0%|          | 0/47 [00:00<?, ?it/s]"
            ],
            "application/vnd.jupyter.widget-view+json": {
              "version_major": 2,
              "version_minor": 0,
              "model_id": "27c30c4e3a964d888db609eb7a680368"
            }
          },
          "metadata": {}
        }
      ],
      "source": [
        "with compiled_net:\n",
        "    # Evaluate model on numpy dataset\n",
        "    callbacks = [\"batch_progress_bar\", Checkpoint(serialiser)]\n",
        "    compiled_net.train({input: train_spikes},\n",
        "                       {output: mnist.train_labels()},\n",
        "                       num_epochs=10, shuffle=True,\n",
        "                       validation_split=0.1,\n",
        "                       callbacks=callbacks)"
      ]
    },
    {
      "cell_type": "markdown",
      "source": [
        "## Evaluate\n",
        "Load weights checkpointed from last epoch:"
      ],
      "metadata": {
        "id": "eQfD_7KP2gYm"
      }
    },
    {
      "cell_type": "code",
      "source": [
        "network.load((9,), serialiser)"
      ],
      "metadata": {
        "id": "0k429OZXzqOC"
      },
      "execution_count": 9,
      "outputs": []
    },
    {
      "cell_type": "markdown",
      "source": [
        "Create an ``InferenceCompiler`` and compile network for inference:"
      ],
      "metadata": {
        "id": "nSwqjLCu2uAF"
      }
    },
    {
      "cell_type": "code",
      "source": [
        "compiler = InferenceCompiler(evaluate_timesteps=max_example_timesteps,\n",
        "                             batch_size=BATCH_SIZE)\n",
        "compiled_net = compiler.compile(network)"
      ],
      "metadata": {
        "id": "ZITrB5w_0Fx4"
      },
      "execution_count": 10,
      "outputs": []
    },
    {
      "cell_type": "markdown",
      "source": [
        "Encode *test set* using the same log-latency encoding and evaluate it:"
      ],
      "metadata": {
        "id": "kW9KERs80y28"
      }
    },
    {
      "cell_type": "code",
      "source": [
        "test_spikes = log_latency_encode_data(mnist.test_images(), 20.0, 51)\n",
        "with compiled_net:\n",
        "    compiled_net.evaluate({input: test_spikes},\n",
        "                          {output: mnist.test_labels()})"
      ],
      "metadata": {
        "id": "6NQDJ1_o0LcY",
        "outputId": "2c1aa88e-10f8-4aa4-c2aa-1d5a524616a5",
        "colab": {
          "base_uri": "https://localhost:8080/",
          "height": 49,
          "referenced_widgets": [
            "2df67d161f994e25b1bb40bfbd450da6",
            "093af90e669849a687d30813002d5178",
            "7df6b3a2f12442aba3501d0cd2841cc6",
            "f4a4226c8bc64a0590977a9eefb9712c",
            "5e768050036b4cb282f51b131d8d0796",
            "50d99f27c9cb4107a231d7ce1bb91ad4",
            "66e0f8eb82814b79ad4dd858e4d22644",
            "9e65fe1265574323ba6d56fe7b747672",
            "46471587fdb7429985b42c7552accc6a",
            "82e818e10d5345e2b3fdb5bf5c352613",
            "45f40937ac1a4bc89582e99fd5dfb424"
          ]
        }
      },
      "execution_count": 11,
      "outputs": [
        {
          "output_type": "display_data",
          "data": {
            "text/plain": [
              "  0%|          | 0/79 [00:00<?, ?it/s]"
            ],
            "application/vnd.jupyter.widget-view+json": {
              "version_major": 2,
              "version_minor": 0,
              "model_id": "2df67d161f994e25b1bb40bfbd450da6"
            }
          },
          "metadata": {}
        }
      ]
    }
  ],
  "metadata": {
    "accelerator": "GPU",
    "colab": {
      "name": "tutorial_1",
      "provenance": []
    },
    "kernelspec": {
      "display_name": "Python 3",
      "language": "python",
      "name": "python3"
    },
    "language_info": {
      "codemirror_mode": {
        "name": "ipython",
        "version": 3
      },
      "file_extension": ".py",
      "mimetype": "text/x-python",
      "name": "python",
      "nbconvert_exporter": "python",
      "pygments_lexer": "ipython3",
      "version": "3.7.7"
    },
    "widgets": {
      "application/vnd.jupyter.widget-state+json": {
        "74b91aa9a5ac43caab70ed9ed0360fa7": {
          "model_module": "@jupyter-widgets/controls",
          "model_name": "HBoxModel",
          "model_module_version": "1.5.0",
          "state": {
            "_dom_classes": [],
            "_model_module": "@jupyter-widgets/controls",
            "_model_module_version": "1.5.0",
            "_model_name": "HBoxModel",
            "_view_count": null,
            "_view_module": "@jupyter-widgets/controls",
            "_view_module_version": "1.5.0",
            "_view_name": "HBoxView",
            "box_style": "",
            "children": [
              "IPY_MODEL_8dc785c2d6eb4fa8856a48849a8193cc",
              "IPY_MODEL_d6784998f5ec4ebe994dcc24d8231696",
              "IPY_MODEL_79bc87c4272248c4a8d48441a69ef9a3"
            ],
            "layout": "IPY_MODEL_9305bbc25a4f4c4f8030cbb5f1a022da"
          }
        },
        "8dc785c2d6eb4fa8856a48849a8193cc": {
          "model_module": "@jupyter-widgets/controls",
          "model_name": "HTMLModel",
          "model_module_version": "1.5.0",
          "state": {
            "_dom_classes": [],
            "_model_module": "@jupyter-widgets/controls",
            "_model_module_version": "1.5.0",
            "_model_name": "HTMLModel",
            "_view_count": null,
            "_view_module": "@jupyter-widgets/controls",
            "_view_module_version": "1.5.0",
            "_view_name": "HTMLView",
            "description": "",
            "description_tooltip": null,
            "layout": "IPY_MODEL_224907234c6941809223c4af01282fb0",
            "placeholder": "​",
            "style": "IPY_MODEL_3836f0f67d0644d8bee7697659a505ca",
            "value": "Epoch 9: 100%"
          }
        },
        "d6784998f5ec4ebe994dcc24d8231696": {
          "model_module": "@jupyter-widgets/controls",
          "model_name": "FloatProgressModel",
          "model_module_version": "1.5.0",
          "state": {
            "_dom_classes": [],
            "_model_module": "@jupyter-widgets/controls",
            "_model_module_version": "1.5.0",
            "_model_name": "FloatProgressModel",
            "_view_count": null,
            "_view_module": "@jupyter-widgets/controls",
            "_view_module_version": "1.5.0",
            "_view_name": "ProgressView",
            "bar_style": "success",
            "description": "",
            "description_tooltip": null,
            "layout": "IPY_MODEL_27acadc8d0cb40eb8328ed9d3326b915",
            "max": 422,
            "min": 0,
            "orientation": "horizontal",
            "style": "IPY_MODEL_966a4ab1cef54911b370c67ae8056d48",
            "value": 422
          }
        },
        "79bc87c4272248c4a8d48441a69ef9a3": {
          "model_module": "@jupyter-widgets/controls",
          "model_name": "HTMLModel",
          "model_module_version": "1.5.0",
          "state": {
            "_dom_classes": [],
            "_model_module": "@jupyter-widgets/controls",
            "_model_module_version": "1.5.0",
            "_model_name": "HTMLModel",
            "_view_count": null,
            "_view_module": "@jupyter-widgets/controls",
            "_view_module_version": "1.5.0",
            "_view_name": "HTMLView",
            "description": "",
            "description_tooltip": null,
            "layout": "IPY_MODEL_162bae83568242c9a9c9d032d9c9776e",
            "placeholder": "​",
            "style": "IPY_MODEL_83bc53648acd471fb1bb12944b63347d",
            "value": " 422/422 [00:35&lt;00:00, 13.44it/s, SparseCategoricalAccuracy: 0.9251]"
          }
        },
        "9305bbc25a4f4c4f8030cbb5f1a022da": {
          "model_module": "@jupyter-widgets/base",
          "model_name": "LayoutModel",
          "model_module_version": "1.2.0",
          "state": {
            "_model_module": "@jupyter-widgets/base",
            "_model_module_version": "1.2.0",
            "_model_name": "LayoutModel",
            "_view_count": null,
            "_view_module": "@jupyter-widgets/base",
            "_view_module_version": "1.2.0",
            "_view_name": "LayoutView",
            "align_content": null,
            "align_items": null,
            "align_self": null,
            "border": null,
            "bottom": null,
            "display": null,
            "flex": null,
            "flex_flow": null,
            "grid_area": null,
            "grid_auto_columns": null,
            "grid_auto_flow": null,
            "grid_auto_rows": null,
            "grid_column": null,
            "grid_gap": null,
            "grid_row": null,
            "grid_template_areas": null,
            "grid_template_columns": null,
            "grid_template_rows": null,
            "height": null,
            "justify_content": null,
            "justify_items": null,
            "left": null,
            "margin": null,
            "max_height": null,
            "max_width": null,
            "min_height": null,
            "min_width": null,
            "object_fit": null,
            "object_position": null,
            "order": null,
            "overflow": null,
            "overflow_x": null,
            "overflow_y": null,
            "padding": null,
            "right": null,
            "top": null,
            "visibility": null,
            "width": null
          }
        },
        "224907234c6941809223c4af01282fb0": {
          "model_module": "@jupyter-widgets/base",
          "model_name": "LayoutModel",
          "model_module_version": "1.2.0",
          "state": {
            "_model_module": "@jupyter-widgets/base",
            "_model_module_version": "1.2.0",
            "_model_name": "LayoutModel",
            "_view_count": null,
            "_view_module": "@jupyter-widgets/base",
            "_view_module_version": "1.2.0",
            "_view_name": "LayoutView",
            "align_content": null,
            "align_items": null,
            "align_self": null,
            "border": null,
            "bottom": null,
            "display": null,
            "flex": null,
            "flex_flow": null,
            "grid_area": null,
            "grid_auto_columns": null,
            "grid_auto_flow": null,
            "grid_auto_rows": null,
            "grid_column": null,
            "grid_gap": null,
            "grid_row": null,
            "grid_template_areas": null,
            "grid_template_columns": null,
            "grid_template_rows": null,
            "height": null,
            "justify_content": null,
            "justify_items": null,
            "left": null,
            "margin": null,
            "max_height": null,
            "max_width": null,
            "min_height": null,
            "min_width": null,
            "object_fit": null,
            "object_position": null,
            "order": null,
            "overflow": null,
            "overflow_x": null,
            "overflow_y": null,
            "padding": null,
            "right": null,
            "top": null,
            "visibility": null,
            "width": null
          }
        },
        "3836f0f67d0644d8bee7697659a505ca": {
          "model_module": "@jupyter-widgets/controls",
          "model_name": "DescriptionStyleModel",
          "model_module_version": "1.5.0",
          "state": {
            "_model_module": "@jupyter-widgets/controls",
            "_model_module_version": "1.5.0",
            "_model_name": "DescriptionStyleModel",
            "_view_count": null,
            "_view_module": "@jupyter-widgets/base",
            "_view_module_version": "1.2.0",
            "_view_name": "StyleView",
            "description_width": ""
          }
        },
        "27acadc8d0cb40eb8328ed9d3326b915": {
          "model_module": "@jupyter-widgets/base",
          "model_name": "LayoutModel",
          "model_module_version": "1.2.0",
          "state": {
            "_model_module": "@jupyter-widgets/base",
            "_model_module_version": "1.2.0",
            "_model_name": "LayoutModel",
            "_view_count": null,
            "_view_module": "@jupyter-widgets/base",
            "_view_module_version": "1.2.0",
            "_view_name": "LayoutView",
            "align_content": null,
            "align_items": null,
            "align_self": null,
            "border": null,
            "bottom": null,
            "display": null,
            "flex": null,
            "flex_flow": null,
            "grid_area": null,
            "grid_auto_columns": null,
            "grid_auto_flow": null,
            "grid_auto_rows": null,
            "grid_column": null,
            "grid_gap": null,
            "grid_row": null,
            "grid_template_areas": null,
            "grid_template_columns": null,
            "grid_template_rows": null,
            "height": null,
            "justify_content": null,
            "justify_items": null,
            "left": null,
            "margin": null,
            "max_height": null,
            "max_width": null,
            "min_height": null,
            "min_width": null,
            "object_fit": null,
            "object_position": null,
            "order": null,
            "overflow": null,
            "overflow_x": null,
            "overflow_y": null,
            "padding": null,
            "right": null,
            "top": null,
            "visibility": null,
            "width": null
          }
        },
        "966a4ab1cef54911b370c67ae8056d48": {
          "model_module": "@jupyter-widgets/controls",
          "model_name": "ProgressStyleModel",
          "model_module_version": "1.5.0",
          "state": {
            "_model_module": "@jupyter-widgets/controls",
            "_model_module_version": "1.5.0",
            "_model_name": "ProgressStyleModel",
            "_view_count": null,
            "_view_module": "@jupyter-widgets/base",
            "_view_module_version": "1.2.0",
            "_view_name": "StyleView",
            "bar_color": null,
            "description_width": ""
          }
        },
        "162bae83568242c9a9c9d032d9c9776e": {
          "model_module": "@jupyter-widgets/base",
          "model_name": "LayoutModel",
          "model_module_version": "1.2.0",
          "state": {
            "_model_module": "@jupyter-widgets/base",
            "_model_module_version": "1.2.0",
            "_model_name": "LayoutModel",
            "_view_count": null,
            "_view_module": "@jupyter-widgets/base",
            "_view_module_version": "1.2.0",
            "_view_name": "LayoutView",
            "align_content": null,
            "align_items": null,
            "align_self": null,
            "border": null,
            "bottom": null,
            "display": null,
            "flex": null,
            "flex_flow": null,
            "grid_area": null,
            "grid_auto_columns": null,
            "grid_auto_flow": null,
            "grid_auto_rows": null,
            "grid_column": null,
            "grid_gap": null,
            "grid_row": null,
            "grid_template_areas": null,
            "grid_template_columns": null,
            "grid_template_rows": null,
            "height": null,
            "justify_content": null,
            "justify_items": null,
            "left": null,
            "margin": null,
            "max_height": null,
            "max_width": null,
            "min_height": null,
            "min_width": null,
            "object_fit": null,
            "object_position": null,
            "order": null,
            "overflow": null,
            "overflow_x": null,
            "overflow_y": null,
            "padding": null,
            "right": null,
            "top": null,
            "visibility": null,
            "width": null
          }
        },
        "83bc53648acd471fb1bb12944b63347d": {
          "model_module": "@jupyter-widgets/controls",
          "model_name": "DescriptionStyleModel",
          "model_module_version": "1.5.0",
          "state": {
            "_model_module": "@jupyter-widgets/controls",
            "_model_module_version": "1.5.0",
            "_model_name": "DescriptionStyleModel",
            "_view_count": null,
            "_view_module": "@jupyter-widgets/base",
            "_view_module_version": "1.2.0",
            "_view_name": "StyleView",
            "description_width": ""
          }
        },
        "27c30c4e3a964d888db609eb7a680368": {
          "model_module": "@jupyter-widgets/controls",
          "model_name": "HBoxModel",
          "model_module_version": "1.5.0",
          "state": {
            "_dom_classes": [],
            "_model_module": "@jupyter-widgets/controls",
            "_model_module_version": "1.5.0",
            "_model_name": "HBoxModel",
            "_view_count": null,
            "_view_module": "@jupyter-widgets/controls",
            "_view_module_version": "1.5.0",
            "_view_name": "HBoxView",
            "box_style": "",
            "children": [
              "IPY_MODEL_425d4f5aedaa46e08f27ebb5b0c146b8",
              "IPY_MODEL_a1b374c97f9546c7b65b7f882f232b9f",
              "IPY_MODEL_894f12224b22411c927e377ba7ce7d87"
            ],
            "layout": "IPY_MODEL_328f2fd898be47f4904edc876afddce5"
          }
        },
        "425d4f5aedaa46e08f27ebb5b0c146b8": {
          "model_module": "@jupyter-widgets/controls",
          "model_name": "HTMLModel",
          "model_module_version": "1.5.0",
          "state": {
            "_dom_classes": [],
            "_model_module": "@jupyter-widgets/controls",
            "_model_module_version": "1.5.0",
            "_model_name": "HTMLModel",
            "_view_count": null,
            "_view_module": "@jupyter-widgets/controls",
            "_view_module_version": "1.5.0",
            "_view_name": "HTMLView",
            "description": "",
            "description_tooltip": null,
            "layout": "IPY_MODEL_be79f9e7e1e346519cddfa3b38f78ff0",
            "placeholder": "​",
            "style": "IPY_MODEL_ccfdbb1e20994ae0afac11def8cd1cd2",
            "value": "Epoch 9: 100%"
          }
        },
        "a1b374c97f9546c7b65b7f882f232b9f": {
          "model_module": "@jupyter-widgets/controls",
          "model_name": "FloatProgressModel",
          "model_module_version": "1.5.0",
          "state": {
            "_dom_classes": [],
            "_model_module": "@jupyter-widgets/controls",
            "_model_module_version": "1.5.0",
            "_model_name": "FloatProgressModel",
            "_view_count": null,
            "_view_module": "@jupyter-widgets/controls",
            "_view_module_version": "1.5.0",
            "_view_name": "ProgressView",
            "bar_style": "success",
            "description": "",
            "description_tooltip": null,
            "layout": "IPY_MODEL_9cdac34499ff4b2d9a2dae1bb787de83",
            "max": 47,
            "min": 0,
            "orientation": "horizontal",
            "style": "IPY_MODEL_5639668a755a4e5d88570735411a91b6",
            "value": 47
          }
        },
        "894f12224b22411c927e377ba7ce7d87": {
          "model_module": "@jupyter-widgets/controls",
          "model_name": "HTMLModel",
          "model_module_version": "1.5.0",
          "state": {
            "_dom_classes": [],
            "_model_module": "@jupyter-widgets/controls",
            "_model_module_version": "1.5.0",
            "_model_name": "HTMLModel",
            "_view_count": null,
            "_view_module": "@jupyter-widgets/controls",
            "_view_module_version": "1.5.0",
            "_view_name": "HTMLView",
            "description": "",
            "description_tooltip": null,
            "layout": "IPY_MODEL_385026addef74f24a6cbd00f95b26660",
            "placeholder": "​",
            "style": "IPY_MODEL_4fe809ac84b34ca490e0c95abab8b1d8",
            "value": " 47/47 [00:03&lt;00:00, 13.27it/s, SparseCategoricalAccuracy: 0.9455]"
          }
        },
        "328f2fd898be47f4904edc876afddce5": {
          "model_module": "@jupyter-widgets/base",
          "model_name": "LayoutModel",
          "model_module_version": "1.2.0",
          "state": {
            "_model_module": "@jupyter-widgets/base",
            "_model_module_version": "1.2.0",
            "_model_name": "LayoutModel",
            "_view_count": null,
            "_view_module": "@jupyter-widgets/base",
            "_view_module_version": "1.2.0",
            "_view_name": "LayoutView",
            "align_content": null,
            "align_items": null,
            "align_self": null,
            "border": null,
            "bottom": null,
            "display": null,
            "flex": null,
            "flex_flow": null,
            "grid_area": null,
            "grid_auto_columns": null,
            "grid_auto_flow": null,
            "grid_auto_rows": null,
            "grid_column": null,
            "grid_gap": null,
            "grid_row": null,
            "grid_template_areas": null,
            "grid_template_columns": null,
            "grid_template_rows": null,
            "height": null,
            "justify_content": null,
            "justify_items": null,
            "left": null,
            "margin": null,
            "max_height": null,
            "max_width": null,
            "min_height": null,
            "min_width": null,
            "object_fit": null,
            "object_position": null,
            "order": null,
            "overflow": null,
            "overflow_x": null,
            "overflow_y": null,
            "padding": null,
            "right": null,
            "top": null,
            "visibility": null,
            "width": null
          }
        },
        "be79f9e7e1e346519cddfa3b38f78ff0": {
          "model_module": "@jupyter-widgets/base",
          "model_name": "LayoutModel",
          "model_module_version": "1.2.0",
          "state": {
            "_model_module": "@jupyter-widgets/base",
            "_model_module_version": "1.2.0",
            "_model_name": "LayoutModel",
            "_view_count": null,
            "_view_module": "@jupyter-widgets/base",
            "_view_module_version": "1.2.0",
            "_view_name": "LayoutView",
            "align_content": null,
            "align_items": null,
            "align_self": null,
            "border": null,
            "bottom": null,
            "display": null,
            "flex": null,
            "flex_flow": null,
            "grid_area": null,
            "grid_auto_columns": null,
            "grid_auto_flow": null,
            "grid_auto_rows": null,
            "grid_column": null,
            "grid_gap": null,
            "grid_row": null,
            "grid_template_areas": null,
            "grid_template_columns": null,
            "grid_template_rows": null,
            "height": null,
            "justify_content": null,
            "justify_items": null,
            "left": null,
            "margin": null,
            "max_height": null,
            "max_width": null,
            "min_height": null,
            "min_width": null,
            "object_fit": null,
            "object_position": null,
            "order": null,
            "overflow": null,
            "overflow_x": null,
            "overflow_y": null,
            "padding": null,
            "right": null,
            "top": null,
            "visibility": null,
            "width": null
          }
        },
        "ccfdbb1e20994ae0afac11def8cd1cd2": {
          "model_module": "@jupyter-widgets/controls",
          "model_name": "DescriptionStyleModel",
          "model_module_version": "1.5.0",
          "state": {
            "_model_module": "@jupyter-widgets/controls",
            "_model_module_version": "1.5.0",
            "_model_name": "DescriptionStyleModel",
            "_view_count": null,
            "_view_module": "@jupyter-widgets/base",
            "_view_module_version": "1.2.0",
            "_view_name": "StyleView",
            "description_width": ""
          }
        },
        "9cdac34499ff4b2d9a2dae1bb787de83": {
          "model_module": "@jupyter-widgets/base",
          "model_name": "LayoutModel",
          "model_module_version": "1.2.0",
          "state": {
            "_model_module": "@jupyter-widgets/base",
            "_model_module_version": "1.2.0",
            "_model_name": "LayoutModel",
            "_view_count": null,
            "_view_module": "@jupyter-widgets/base",
            "_view_module_version": "1.2.0",
            "_view_name": "LayoutView",
            "align_content": null,
            "align_items": null,
            "align_self": null,
            "border": null,
            "bottom": null,
            "display": null,
            "flex": null,
            "flex_flow": null,
            "grid_area": null,
            "grid_auto_columns": null,
            "grid_auto_flow": null,
            "grid_auto_rows": null,
            "grid_column": null,
            "grid_gap": null,
            "grid_row": null,
            "grid_template_areas": null,
            "grid_template_columns": null,
            "grid_template_rows": null,
            "height": null,
            "justify_content": null,
            "justify_items": null,
            "left": null,
            "margin": null,
            "max_height": null,
            "max_width": null,
            "min_height": null,
            "min_width": null,
            "object_fit": null,
            "object_position": null,
            "order": null,
            "overflow": null,
            "overflow_x": null,
            "overflow_y": null,
            "padding": null,
            "right": null,
            "top": null,
            "visibility": null,
            "width": null
          }
        },
        "5639668a755a4e5d88570735411a91b6": {
          "model_module": "@jupyter-widgets/controls",
          "model_name": "ProgressStyleModel",
          "model_module_version": "1.5.0",
          "state": {
            "_model_module": "@jupyter-widgets/controls",
            "_model_module_version": "1.5.0",
            "_model_name": "ProgressStyleModel",
            "_view_count": null,
            "_view_module": "@jupyter-widgets/base",
            "_view_module_version": "1.2.0",
            "_view_name": "StyleView",
            "bar_color": null,
            "description_width": ""
          }
        },
        "385026addef74f24a6cbd00f95b26660": {
          "model_module": "@jupyter-widgets/base",
          "model_name": "LayoutModel",
          "model_module_version": "1.2.0",
          "state": {
            "_model_module": "@jupyter-widgets/base",
            "_model_module_version": "1.2.0",
            "_model_name": "LayoutModel",
            "_view_count": null,
            "_view_module": "@jupyter-widgets/base",
            "_view_module_version": "1.2.0",
            "_view_name": "LayoutView",
            "align_content": null,
            "align_items": null,
            "align_self": null,
            "border": null,
            "bottom": null,
            "display": null,
            "flex": null,
            "flex_flow": null,
            "grid_area": null,
            "grid_auto_columns": null,
            "grid_auto_flow": null,
            "grid_auto_rows": null,
            "grid_column": null,
            "grid_gap": null,
            "grid_row": null,
            "grid_template_areas": null,
            "grid_template_columns": null,
            "grid_template_rows": null,
            "height": null,
            "justify_content": null,
            "justify_items": null,
            "left": null,
            "margin": null,
            "max_height": null,
            "max_width": null,
            "min_height": null,
            "min_width": null,
            "object_fit": null,
            "object_position": null,
            "order": null,
            "overflow": null,
            "overflow_x": null,
            "overflow_y": null,
            "padding": null,
            "right": null,
            "top": null,
            "visibility": null,
            "width": null
          }
        },
        "4fe809ac84b34ca490e0c95abab8b1d8": {
          "model_module": "@jupyter-widgets/controls",
          "model_name": "DescriptionStyleModel",
          "model_module_version": "1.5.0",
          "state": {
            "_model_module": "@jupyter-widgets/controls",
            "_model_module_version": "1.5.0",
            "_model_name": "DescriptionStyleModel",
            "_view_count": null,
            "_view_module": "@jupyter-widgets/base",
            "_view_module_version": "1.2.0",
            "_view_name": "StyleView",
            "description_width": ""
          }
        },
        "2df67d161f994e25b1bb40bfbd450da6": {
          "model_module": "@jupyter-widgets/controls",
          "model_name": "HBoxModel",
          "model_module_version": "1.5.0",
          "state": {
            "_dom_classes": [],
            "_model_module": "@jupyter-widgets/controls",
            "_model_module_version": "1.5.0",
            "_model_name": "HBoxModel",
            "_view_count": null,
            "_view_module": "@jupyter-widgets/controls",
            "_view_module_version": "1.5.0",
            "_view_name": "HBoxView",
            "box_style": "",
            "children": [
              "IPY_MODEL_093af90e669849a687d30813002d5178",
              "IPY_MODEL_7df6b3a2f12442aba3501d0cd2841cc6",
              "IPY_MODEL_f4a4226c8bc64a0590977a9eefb9712c"
            ],
            "layout": "IPY_MODEL_5e768050036b4cb282f51b131d8d0796"
          }
        },
        "093af90e669849a687d30813002d5178": {
          "model_module": "@jupyter-widgets/controls",
          "model_name": "HTMLModel",
          "model_module_version": "1.5.0",
          "state": {
            "_dom_classes": [],
            "_model_module": "@jupyter-widgets/controls",
            "_model_module_version": "1.5.0",
            "_model_name": "HTMLModel",
            "_view_count": null,
            "_view_module": "@jupyter-widgets/controls",
            "_view_module_version": "1.5.0",
            "_view_name": "HTMLView",
            "description": "",
            "description_tooltip": null,
            "layout": "IPY_MODEL_50d99f27c9cb4107a231d7ce1bb91ad4",
            "placeholder": "​",
            "style": "IPY_MODEL_66e0f8eb82814b79ad4dd858e4d22644",
            "value": "100%"
          }
        },
        "7df6b3a2f12442aba3501d0cd2841cc6": {
          "model_module": "@jupyter-widgets/controls",
          "model_name": "FloatProgressModel",
          "model_module_version": "1.5.0",
          "state": {
            "_dom_classes": [],
            "_model_module": "@jupyter-widgets/controls",
            "_model_module_version": "1.5.0",
            "_model_name": "FloatProgressModel",
            "_view_count": null,
            "_view_module": "@jupyter-widgets/controls",
            "_view_module_version": "1.5.0",
            "_view_name": "ProgressView",
            "bar_style": "success",
            "description": "",
            "description_tooltip": null,
            "layout": "IPY_MODEL_9e65fe1265574323ba6d56fe7b747672",
            "max": 79,
            "min": 0,
            "orientation": "horizontal",
            "style": "IPY_MODEL_46471587fdb7429985b42c7552accc6a",
            "value": 79
          }
        },
        "f4a4226c8bc64a0590977a9eefb9712c": {
          "model_module": "@jupyter-widgets/controls",
          "model_name": "HTMLModel",
          "model_module_version": "1.5.0",
          "state": {
            "_dom_classes": [],
            "_model_module": "@jupyter-widgets/controls",
            "_model_module_version": "1.5.0",
            "_model_name": "HTMLModel",
            "_view_count": null,
            "_view_module": "@jupyter-widgets/controls",
            "_view_module_version": "1.5.0",
            "_view_name": "HTMLView",
            "description": "",
            "description_tooltip": null,
            "layout": "IPY_MODEL_82e818e10d5345e2b3fdb5bf5c352613",
            "placeholder": "​",
            "style": "IPY_MODEL_45f40937ac1a4bc89582e99fd5dfb424",
            "value": " 79/79 [00:00&lt;00:00, 116.91it/s, SparseCategoricalAccuracy: 0.9368]"
          }
        },
        "5e768050036b4cb282f51b131d8d0796": {
          "model_module": "@jupyter-widgets/base",
          "model_name": "LayoutModel",
          "model_module_version": "1.2.0",
          "state": {
            "_model_module": "@jupyter-widgets/base",
            "_model_module_version": "1.2.0",
            "_model_name": "LayoutModel",
            "_view_count": null,
            "_view_module": "@jupyter-widgets/base",
            "_view_module_version": "1.2.0",
            "_view_name": "LayoutView",
            "align_content": null,
            "align_items": null,
            "align_self": null,
            "border": null,
            "bottom": null,
            "display": null,
            "flex": null,
            "flex_flow": null,
            "grid_area": null,
            "grid_auto_columns": null,
            "grid_auto_flow": null,
            "grid_auto_rows": null,
            "grid_column": null,
            "grid_gap": null,
            "grid_row": null,
            "grid_template_areas": null,
            "grid_template_columns": null,
            "grid_template_rows": null,
            "height": null,
            "justify_content": null,
            "justify_items": null,
            "left": null,
            "margin": null,
            "max_height": null,
            "max_width": null,
            "min_height": null,
            "min_width": null,
            "object_fit": null,
            "object_position": null,
            "order": null,
            "overflow": null,
            "overflow_x": null,
            "overflow_y": null,
            "padding": null,
            "right": null,
            "top": null,
            "visibility": null,
            "width": null
          }
        },
        "50d99f27c9cb4107a231d7ce1bb91ad4": {
          "model_module": "@jupyter-widgets/base",
          "model_name": "LayoutModel",
          "model_module_version": "1.2.0",
          "state": {
            "_model_module": "@jupyter-widgets/base",
            "_model_module_version": "1.2.0",
            "_model_name": "LayoutModel",
            "_view_count": null,
            "_view_module": "@jupyter-widgets/base",
            "_view_module_version": "1.2.0",
            "_view_name": "LayoutView",
            "align_content": null,
            "align_items": null,
            "align_self": null,
            "border": null,
            "bottom": null,
            "display": null,
            "flex": null,
            "flex_flow": null,
            "grid_area": null,
            "grid_auto_columns": null,
            "grid_auto_flow": null,
            "grid_auto_rows": null,
            "grid_column": null,
            "grid_gap": null,
            "grid_row": null,
            "grid_template_areas": null,
            "grid_template_columns": null,
            "grid_template_rows": null,
            "height": null,
            "justify_content": null,
            "justify_items": null,
            "left": null,
            "margin": null,
            "max_height": null,
            "max_width": null,
            "min_height": null,
            "min_width": null,
            "object_fit": null,
            "object_position": null,
            "order": null,
            "overflow": null,
            "overflow_x": null,
            "overflow_y": null,
            "padding": null,
            "right": null,
            "top": null,
            "visibility": null,
            "width": null
          }
        },
        "66e0f8eb82814b79ad4dd858e4d22644": {
          "model_module": "@jupyter-widgets/controls",
          "model_name": "DescriptionStyleModel",
          "model_module_version": "1.5.0",
          "state": {
            "_model_module": "@jupyter-widgets/controls",
            "_model_module_version": "1.5.0",
            "_model_name": "DescriptionStyleModel",
            "_view_count": null,
            "_view_module": "@jupyter-widgets/base",
            "_view_module_version": "1.2.0",
            "_view_name": "StyleView",
            "description_width": ""
          }
        },
        "9e65fe1265574323ba6d56fe7b747672": {
          "model_module": "@jupyter-widgets/base",
          "model_name": "LayoutModel",
          "model_module_version": "1.2.0",
          "state": {
            "_model_module": "@jupyter-widgets/base",
            "_model_module_version": "1.2.0",
            "_model_name": "LayoutModel",
            "_view_count": null,
            "_view_module": "@jupyter-widgets/base",
            "_view_module_version": "1.2.0",
            "_view_name": "LayoutView",
            "align_content": null,
            "align_items": null,
            "align_self": null,
            "border": null,
            "bottom": null,
            "display": null,
            "flex": null,
            "flex_flow": null,
            "grid_area": null,
            "grid_auto_columns": null,
            "grid_auto_flow": null,
            "grid_auto_rows": null,
            "grid_column": null,
            "grid_gap": null,
            "grid_row": null,
            "grid_template_areas": null,
            "grid_template_columns": null,
            "grid_template_rows": null,
            "height": null,
            "justify_content": null,
            "justify_items": null,
            "left": null,
            "margin": null,
            "max_height": null,
            "max_width": null,
            "min_height": null,
            "min_width": null,
            "object_fit": null,
            "object_position": null,
            "order": null,
            "overflow": null,
            "overflow_x": null,
            "overflow_y": null,
            "padding": null,
            "right": null,
            "top": null,
            "visibility": null,
            "width": null
          }
        },
        "46471587fdb7429985b42c7552accc6a": {
          "model_module": "@jupyter-widgets/controls",
          "model_name": "ProgressStyleModel",
          "model_module_version": "1.5.0",
          "state": {
            "_model_module": "@jupyter-widgets/controls",
            "_model_module_version": "1.5.0",
            "_model_name": "ProgressStyleModel",
            "_view_count": null,
            "_view_module": "@jupyter-widgets/base",
            "_view_module_version": "1.2.0",
            "_view_name": "StyleView",
            "bar_color": null,
            "description_width": ""
          }
        },
        "82e818e10d5345e2b3fdb5bf5c352613": {
          "model_module": "@jupyter-widgets/base",
          "model_name": "LayoutModel",
          "model_module_version": "1.2.0",
          "state": {
            "_model_module": "@jupyter-widgets/base",
            "_model_module_version": "1.2.0",
            "_model_name": "LayoutModel",
            "_view_count": null,
            "_view_module": "@jupyter-widgets/base",
            "_view_module_version": "1.2.0",
            "_view_name": "LayoutView",
            "align_content": null,
            "align_items": null,
            "align_self": null,
            "border": null,
            "bottom": null,
            "display": null,
            "flex": null,
            "flex_flow": null,
            "grid_area": null,
            "grid_auto_columns": null,
            "grid_auto_flow": null,
            "grid_auto_rows": null,
            "grid_column": null,
            "grid_gap": null,
            "grid_row": null,
            "grid_template_areas": null,
            "grid_template_columns": null,
            "grid_template_rows": null,
            "height": null,
            "justify_content": null,
            "justify_items": null,
            "left": null,
            "margin": null,
            "max_height": null,
            "max_width": null,
            "min_height": null,
            "min_width": null,
            "object_fit": null,
            "object_position": null,
            "order": null,
            "overflow": null,
            "overflow_x": null,
            "overflow_y": null,
            "padding": null,
            "right": null,
            "top": null,
            "visibility": null,
            "width": null
          }
        },
        "45f40937ac1a4bc89582e99fd5dfb424": {
          "model_module": "@jupyter-widgets/controls",
          "model_name": "DescriptionStyleModel",
          "model_module_version": "1.5.0",
          "state": {
            "_model_module": "@jupyter-widgets/controls",
            "_model_module_version": "1.5.0",
            "_model_name": "DescriptionStyleModel",
            "_view_count": null,
            "_view_module": "@jupyter-widgets/base",
            "_view_module_version": "1.2.0",
            "_view_name": "StyleView",
            "description_width": ""
          }
        }
      }
    }
  },
  "nbformat": 4,
  "nbformat_minor": 0
}