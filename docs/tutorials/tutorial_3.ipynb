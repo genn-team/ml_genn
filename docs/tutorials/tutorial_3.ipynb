{
  "cells": [
    {
      "cell_type": "markdown",
      "metadata": {
        "id": "lGa0_oLb61zz"
      },
      "source": [
        "# Tutorial 3\n",
        "In this tutorial, we are going to directly train a simple SNN with a single hidden layer using EventProp on the MNIST dataset, converted to a latency spike code.\n",
        "\n",
        "Clearly, this is far from a state of the art architecture, but it still achieves 96% accuracy on MNIST.\n",
        "\n",
        "## Install\n",
        "Download wheel file"
      ]
    },
    {
      "cell_type": "code",
      "execution_count": 1,
      "metadata": {
        "colab": {
          "base_uri": "https://localhost:8080/"
        },
        "id": "t2ihZLXh5VD-",
        "outputId": "d332b977-820e-4241-a22e-d3a4a00f1c7b"
      },
      "outputs": [
        {
          "output_type": "stream",
          "name": "stdout",
          "text": [
            "Downloading...\n",
            "From: https://drive.google.com/uc?id=1OJH0FAR4GRsvIKkHw0NBM-9aYU2VJ1bo\n",
            "To: /content/pygenn-5.1.0-cp310-cp310-linux_x86_64.whl\n",
            "\r  0% 0.00/8.47M [00:00<?, ?B/s]\r100% 8.47M/8.47M [00:00<00:00, 248MB/s]\n",
            "Processing ./pygenn-5.1.0-cp310-cp310-linux_x86_64.whl\n",
            "Requirement already satisfied: numpy>=1.17 in /usr/local/lib/python3.10/dist-packages (from pygenn==5.1.0) (1.26.4)\n",
            "Requirement already satisfied: psutil in /usr/local/lib/python3.10/dist-packages (from pygenn==5.1.0) (5.9.5)\n",
            "Requirement already satisfied: setuptools in /usr/local/lib/python3.10/dist-packages (from pygenn==5.1.0) (75.1.0)\n",
            "pygenn is already installed with the same version as the provided wheel. Use --force-reinstall to force an installation of the wheel.\n",
            "env: CUDA_PATH=/usr/local/cuda\n",
            "--2024-12-02 10:40:28--  https://github.com/genn-team/ml_genn/archive/refs/tags/ml_genn_2_3_0.zip\n",
            "Resolving github.com (github.com)... 140.82.116.3\n",
            "Connecting to github.com (github.com)|140.82.116.3|:443... connected.\n",
            "HTTP request sent, awaiting response... 302 Found\n",
            "Location: https://codeload.github.com/genn-team/ml_genn/zip/refs/tags/ml_genn_2_3_0 [following]\n",
            "--2024-12-02 10:40:28--  https://codeload.github.com/genn-team/ml_genn/zip/refs/tags/ml_genn_2_3_0\n",
            "Resolving codeload.github.com (codeload.github.com)... 140.82.112.10\n",
            "Connecting to codeload.github.com (codeload.github.com)|140.82.112.10|:443... connected.\n",
            "HTTP request sent, awaiting response... 200 OK\n",
            "Length: 697592 (681K) [application/zip]\n",
            "Saving to: ‘ml_genn_2_3_0.zip.1’\n",
            "\n",
            "ml_genn_2_3_0.zip.1 100%[===================>] 681.24K  2.07MB/s    in 0.3s    \n",
            "\n",
            "2024-12-02 10:40:28 (2.07 MB/s) - ‘ml_genn_2_3_0.zip.1’ saved [697592/697592]\n",
            "\n",
            "Processing ./ml_genn-ml_genn_2_3_0/ml_genn\n",
            "  Preparing metadata (setup.py) ... \u001b[?25l\u001b[?25hdone\n",
            "Requirement already satisfied: pygenn<6.0.0,>=5.1.0 in /usr/local/lib/python3.10/dist-packages (from ml_genn==2.3.0) (5.1.0)\n",
            "Collecting enum-compat (from ml_genn==2.3.0)\n",
            "  Using cached enum_compat-0.0.3-py3-none-any.whl.metadata (954 bytes)\n",
            "Requirement already satisfied: tqdm>=4.27.0 in /usr/local/lib/python3.10/dist-packages (from ml_genn==2.3.0) (4.66.6)\n",
            "Requirement already satisfied: deprecated in /usr/local/lib/python3.10/dist-packages (from ml_genn==2.3.0) (1.2.15)\n",
            "Requirement already satisfied: numpy>=1.17 in /usr/local/lib/python3.10/dist-packages (from pygenn<6.0.0,>=5.1.0->ml_genn==2.3.0) (1.26.4)\n",
            "Requirement already satisfied: psutil in /usr/local/lib/python3.10/dist-packages (from pygenn<6.0.0,>=5.1.0->ml_genn==2.3.0) (5.9.5)\n",
            "Requirement already satisfied: setuptools in /usr/local/lib/python3.10/dist-packages (from pygenn<6.0.0,>=5.1.0->ml_genn==2.3.0) (75.1.0)\n",
            "Requirement already satisfied: wrapt<2,>=1.10 in /usr/local/lib/python3.10/dist-packages (from deprecated->ml_genn==2.3.0) (1.16.0)\n",
            "Using cached enum_compat-0.0.3-py3-none-any.whl (1.3 kB)\n",
            "Building wheels for collected packages: ml_genn\n",
            "  Building wheel for ml_genn (setup.py) ... \u001b[?25l\u001b[?25hdone\n",
            "  Created wheel for ml_genn: filename=ml_genn-2.3.0-py3-none-any.whl size=131136 sha256=af8cd89701611474729c6655ca74a88a3de588f75c566f9860365981971fb2ef\n",
            "  Stored in directory: /tmp/pip-ephem-wheel-cache-s4yvr95c/wheels/5d/39/1d/8b5dd13aa67195efd8150593ac67df541350d8c71b1cc938d2\n",
            "Successfully built ml_genn\n",
            "Installing collected packages: enum-compat, ml_genn\n",
            "Successfully installed enum-compat-0.0.3 ml_genn-2.3.0\n"
          ]
        }
      ],
      "source": [
        "if \"google.colab\" in str(get_ipython()):\n",
        "    !gdown 1OJH0FAR4GRsvIKkHw0NBM-9aYU2VJ1bo\n",
        "    !pip install pygenn-5.1.0-cp310-cp310-linux_x86_64.whl\n",
        "    %env CUDA_PATH=/usr/local/cuda\n",
        "\n",
        "    !rm -rf /content/ml_genn-ml_genn_2_3_0\n",
        "    !wget https://github.com/genn-team/ml_genn/archive/refs/tags/ml_genn_2_3_0.zip\n",
        "    !unzip -q ml_genn_2_3_0.zip\n",
        "    !pip install ./ml_genn-ml_genn_2_3_0/ml_genn"
      ]
    },
    {
      "cell_type": "markdown",
      "source": [
        "## Install MNIST package"
      ],
      "metadata": {
        "id": "KVRtXVzIg07T"
      }
    },
    {
      "cell_type": "code",
      "source": [
        "!pip install mnist"
      ],
      "metadata": {
        "colab": {
          "base_uri": "https://localhost:8080/"
        },
        "id": "AikBc4sfg1b-",
        "outputId": "c91cedc7-764d-4a0a-a813-7c6059ab50ae"
      },
      "execution_count": 2,
      "outputs": [
        {
          "output_type": "stream",
          "name": "stdout",
          "text": [
            "Requirement already satisfied: mnist in /usr/local/lib/python3.10/dist-packages (0.2.2)\n",
            "Requirement already satisfied: numpy in /usr/local/lib/python3.10/dist-packages (from mnist) (1.26.4)\n"
          ]
        }
      ]
    },
    {
      "cell_type": "markdown",
      "metadata": {
        "id": "BwadUz9Azxss"
      },
      "source": [
        "## Build model\n",
        "Import standard modules and required mlGeNN classes"
      ]
    },
    {
      "cell_type": "code",
      "execution_count": 3,
      "metadata": {
        "id": "agqWFZjickfU"
      },
      "outputs": [],
      "source": [
        "import mnist\n",
        "import numpy as np\n",
        "import matplotlib.pyplot as plt\n",
        "\n",
        "from ml_genn import InputLayer, Layer, SequentialNetwork\n",
        "from ml_genn.callbacks import Checkpoint\n",
        "from ml_genn.compilers import EventPropCompiler, InferenceCompiler\n",
        "from ml_genn.connectivity import Dense\n",
        "from ml_genn.initializers import Normal\n",
        "from ml_genn.neurons import LeakyIntegrate, LeakyIntegrateFire, SpikeInput\n",
        "from ml_genn.optimisers import Adam\n",
        "from ml_genn.serialisers import Numpy\n",
        "from ml_genn.synapses import Exponential\n",
        "\n",
        "from ml_genn.utils.data import (calc_latest_spike_time, linear_latency_encode_data)\n",
        "\n",
        "from ml_genn.compilers.event_prop_compiler import default_params"
      ]
    },
    {
      "cell_type": "markdown",
      "source": [
        "\n",
        "##Parameters\n",
        "\n",
        "Define some model parameters\n"
      ],
      "metadata": {
        "id": "X2hcCpdlzaZA"
      }
    },
    {
      "cell_type": "code",
      "source": [
        "NUM_INPUT = 28 * 28\n",
        "NUM_HIDDEN = 128\n",
        "NUM_OUTPUT = 10\n",
        "BATCH_SIZE = 128"
      ],
      "metadata": {
        "id": "x87G22iUzcEU"
      },
      "execution_count": 4,
      "outputs": []
    },
    {
      "cell_type": "markdown",
      "source": [],
      "metadata": {
        "id": "jk7HbKtu2aAV"
      }
    },
    {
      "cell_type": "markdown",
      "source": [
        "## Latency encoding\n",
        "There are numerous ways to encode images using spikes but here we are going to emit a single spike for each neuron at a time proportional the each pixel's grayscale."
      ],
      "metadata": {
        "id": "op6AInYzviqh"
      }
    },
    {
      "cell_type": "code",
      "source": [
        "mnist.datasets_url = \"https://storage.googleapis.com/cvdf-datasets/mnist/\"\n",
        "train_spikes = linear_latency_encode_data(mnist.train_images(), 20.0)"
      ],
      "metadata": {
        "id": "2m9780SfvWec"
      },
      "execution_count": 5,
      "outputs": []
    },
    {
      "cell_type": "markdown",
      "metadata": {
        "id": "iuwdL6IE2MuS"
      },
      "source": [
        "## Network definition\n",
        "Because our network is entirely feedforward, we can define it as a ``SequentialNetwork`` where each layer is automatically connected to the previous layer. As we have converted the MNIST dataset to spikes, we will use a ``SpikeInput`` to inject these directly into the network. For our hidden layer we are going to use standard Leaky integrate-and-fire neurons. Finally, we are going to use a non-spiking output layer and read classifications out of this by determening the maximum of the output neurons' averaged membrane voltages.\n",
        "\n"
      ]
    },
    {
      "cell_type": "code",
      "execution_count": 6,
      "metadata": {
        "id": "C68EDXn6cj-O"
      },
      "outputs": [],
      "source": [
        "# Create sequential model\n",
        "serialiser = Numpy(\"latency_mnist_checkpoints\")\n",
        "network = SequentialNetwork(default_params)\n",
        "with network:\n",
        "    # Populations\n",
        "    input = InputLayer(SpikeInput(max_spikes=BATCH_SIZE * NUM_INPUT),\n",
        "                                  NUM_INPUT)\n",
        "    hidden = Layer(Dense(Normal(mean=0.078, sd=0.045)),\n",
        "                   LeakyIntegrateFire(v_thresh=1.0, tau_mem=20.0,\n",
        "                                      tau_refrac=None),\n",
        "                   NUM_HIDDEN, Exponential(5.0))\n",
        "    output = Layer(Dense(Normal(mean=0.2, sd=0.37)),\n",
        "                   LeakyIntegrate(tau_mem=20.0, readout=\"avg_var\"),\n",
        "                   NUM_OUTPUT, Exponential(5.0))"
      ]
    },
    {
      "cell_type": "markdown",
      "metadata": {
        "id": "9PCMgNPCz86O"
      },
      "source": [
        "## Compilation\n",
        "In mlGeNN, in order to turn an abstract network description into something that can actually be used for training or inference you use a *compiler* class. Here, we use the ``EventPropCompiler`` to train with EventProp and specify batch size and how many timesteps to evaluate each example for as well as choosing our optimiser and loss function. Because this is a classification task, we want to use cross-entropy loss and, because our labels are specified in this way (rather than e.g. one-hot encoded), we use the sparse catgorical variant."
      ]
    },
    {
      "cell_type": "code",
      "execution_count": 13,
      "metadata": {
        "id": "-7lzXzmQcgbt"
      },
      "outputs": [],
      "source": [
        "compiler = EventPropCompiler(example_timesteps=20,\n",
        "                         losses=\"sparse_categorical_crossentropy\",\n",
        "                         optimiser=Adam(1e-2), batch_size=BATCH_SIZE)\n",
        "compiled_net = compiler.compile(network)"
      ]
    },
    {
      "cell_type": "markdown",
      "metadata": {
        "id": "ATwobw4Mw2LG"
      },
      "source": [
        "## Training\n",
        "Now we will train the model for 10 epochs using our compiled network. To verify its performance we take 10% of the training data as a validation split and add an additional callback to checkpoint weights every epoch.\n",
        "\n"
      ]
    },
    {
      "cell_type": "code",
      "execution_count": 14,
      "metadata": {
        "id": "EEQyoL-zcu-A",
        "outputId": "94de6759-d45e-4e9a-d248-fa372505c671",
        "colab": {
          "base_uri": "https://localhost:8080/",
          "height": 81,
          "referenced_widgets": [
            "28283e5573a64edd9172099e0bf55bcf",
            "d902efe9a6884a8982e1f1254053470a",
            "1dc77f5bc93e428283958db758a47014",
            "4b7fb3e8845845afb805716ca30ed90f",
            "b30c89033a594e5989e24ca5e3d0fced",
            "57ed71a30a1b40739d8d94fd9695ca9b",
            "61a4bfd7215041c09818560802787ae2",
            "122ea8cf559a46bb9918117f3fa2e53d",
            "29b990d590274a3e87132c32226e0a91",
            "664830ceb0ed4e7980212450e76d5ff1",
            "663abd6f92124c349dd7c32cdd2fe9b8",
            "e8b71e4c263f4691bd533c83580ae7d9",
            "159278ee4cb2438a92dfdfecc377706e",
            "d5f45d528526428ba4160b832d00c021",
            "114bbd90082847ecb6bb9df37777250a",
            "b9c3a4303e844558a7345fcf2246f38c",
            "d5b1e0dacc6d4dc596310e4097689e5a",
            "2fb9361982c54f19b4205d63ccdb4614",
            "3b851c59700d48cbb8efe2177922187c",
            "adc772b35ce94dfd8506eb370869d651",
            "fdbbda13e906487f991ec1f7ba791b5e",
            "b61d22ad13c74e369ca0a38c787ca6b5"
          ]
        }
      },
      "outputs": [
        {
          "output_type": "display_data",
          "data": {
            "text/plain": [
              "  0%|          | 0/422 [00:00<?, ?it/s]"
            ],
            "application/vnd.jupyter.widget-view+json": {
              "version_major": 2,
              "version_minor": 0,
              "model_id": "28283e5573a64edd9172099e0bf55bcf"
            }
          },
          "metadata": {}
        },
        {
          "output_type": "display_data",
          "data": {
            "text/plain": [
              "  0%|          | 0/47 [00:00<?, ?it/s]"
            ],
            "application/vnd.jupyter.widget-view+json": {
              "version_major": 2,
              "version_minor": 0,
              "model_id": "e8b71e4c263f4691bd533c83580ae7d9"
            }
          },
          "metadata": {}
        }
      ],
      "source": [
        "with compiled_net:\n",
        "    # Evaluate model on numpy dataset\n",
        "    callbacks = [\"batch_progress_bar\", Checkpoint(serialiser)]\n",
        "    compiled_net.train({input: train_spikes},\n",
        "                       {output: mnist.train_labels()},\n",
        "                       num_epochs=15, shuffle=True,\n",
        "                       validation_split=0.1,\n",
        "                       callbacks=callbacks)"
      ]
    },
    {
      "cell_type": "markdown",
      "source": [
        "## Evaluate\n",
        "Load weights checkpointed from last epoch:"
      ],
      "metadata": {
        "id": "eQfD_7KP2gYm"
      }
    },
    {
      "cell_type": "code",
      "source": [
        "network.load((14,), serialiser)"
      ],
      "metadata": {
        "id": "0k429OZXzqOC"
      },
      "execution_count": 15,
      "outputs": []
    },
    {
      "cell_type": "markdown",
      "source": [
        "Create an ``InferenceCompiler`` and compile network for inference:"
      ],
      "metadata": {
        "id": "nSwqjLCu2uAF"
      }
    },
    {
      "cell_type": "code",
      "source": [
        "compiler = InferenceCompiler(evaluate_timesteps=20,\n",
        "                             reset_in_syn_between_batches=True,\n",
        "                             batch_size=BATCH_SIZE)\n",
        "compiled_net = compiler.compile(network)"
      ],
      "metadata": {
        "id": "ZITrB5w_0Fx4"
      },
      "execution_count": 16,
      "outputs": []
    },
    {
      "cell_type": "markdown",
      "source": [
        "Encode *test set* using the same log-latency encoding and evaluate it:"
      ],
      "metadata": {
        "id": "kW9KERs80y28"
      }
    },
    {
      "cell_type": "code",
      "source": [
        "test_spikes = linear_latency_encode_data(mnist.test_images(), 20.0)\n",
        "with compiled_net:\n",
        "    compiled_net.evaluate({input: test_spikes},\n",
        "                          {output: mnist.test_labels()})"
      ],
      "metadata": {
        "id": "6NQDJ1_o0LcY",
        "outputId": "0350bcc4-1d3f-4511-e0f1-3aa4b7ed030f",
        "colab": {
          "base_uri": "https://localhost:8080/",
          "height": 49,
          "referenced_widgets": [
            "7cdbf291f81b41498813fc66c8299d1b",
            "ef5bcb6db1094a8caf8af6a28072f46a",
            "622cacff9c414dd59f8d335384a1a2db",
            "cd230b58310b4ef08c59de94cae8ff48",
            "b1762a9748b44198bff651d94864838b",
            "29e11d25411f4ec9be7774672a7eb9f4",
            "29c6197bbc9b48899b832b0a8c95a5a9",
            "dc0fe0f57dea4410a3d38e2781da960e",
            "180f2a8d25c448398e3b1fc73644f946",
            "17255301f9644786bf318b9ebb22a739",
            "08ac7837f8c548d285edbeec155b7924"
          ]
        }
      },
      "execution_count": 17,
      "outputs": [
        {
          "output_type": "display_data",
          "data": {
            "text/plain": [
              "  0%|          | 0/79 [00:00<?, ?it/s]"
            ],
            "application/vnd.jupyter.widget-view+json": {
              "version_major": 2,
              "version_minor": 0,
              "model_id": "7cdbf291f81b41498813fc66c8299d1b"
            }
          },
          "metadata": {}
        }
      ]
    }
  ],
  "metadata": {
    "accelerator": "GPU",
    "colab": {
      "name": "tutorial_1",
      "provenance": []
    },
    "kernelspec": {
      "display_name": "Python 3",
      "language": "python",
      "name": "python3"
    },
    "language_info": {
      "codemirror_mode": {
        "name": "ipython",
        "version": 3
      },
      "file_extension": ".py",
      "mimetype": "text/x-python",
      "name": "python",
      "nbconvert_exporter": "python",
      "pygments_lexer": "ipython3",
      "version": "3.7.7"
    },
    "widgets": {
      "application/vnd.jupyter.widget-state+json": {
        "28283e5573a64edd9172099e0bf55bcf": {
          "model_module": "@jupyter-widgets/controls",
          "model_name": "HBoxModel",
          "model_module_version": "1.5.0",
          "state": {
            "_dom_classes": [],
            "_model_module": "@jupyter-widgets/controls",
            "_model_module_version": "1.5.0",
            "_model_name": "HBoxModel",
            "_view_count": null,
            "_view_module": "@jupyter-widgets/controls",
            "_view_module_version": "1.5.0",
            "_view_name": "HBoxView",
            "box_style": "",
            "children": [
              "IPY_MODEL_d902efe9a6884a8982e1f1254053470a",
              "IPY_MODEL_1dc77f5bc93e428283958db758a47014",
              "IPY_MODEL_4b7fb3e8845845afb805716ca30ed90f"
            ],
            "layout": "IPY_MODEL_b30c89033a594e5989e24ca5e3d0fced"
          }
        },
        "d902efe9a6884a8982e1f1254053470a": {
          "model_module": "@jupyter-widgets/controls",
          "model_name": "HTMLModel",
          "model_module_version": "1.5.0",
          "state": {
            "_dom_classes": [],
            "_model_module": "@jupyter-widgets/controls",
            "_model_module_version": "1.5.0",
            "_model_name": "HTMLModel",
            "_view_count": null,
            "_view_module": "@jupyter-widgets/controls",
            "_view_module_version": "1.5.0",
            "_view_name": "HTMLView",
            "description": "",
            "description_tooltip": null,
            "layout": "IPY_MODEL_57ed71a30a1b40739d8d94fd9695ca9b",
            "placeholder": "​",
            "style": "IPY_MODEL_61a4bfd7215041c09818560802787ae2",
            "value": "Epoch 14: 100%"
          }
        },
        "1dc77f5bc93e428283958db758a47014": {
          "model_module": "@jupyter-widgets/controls",
          "model_name": "FloatProgressModel",
          "model_module_version": "1.5.0",
          "state": {
            "_dom_classes": [],
            "_model_module": "@jupyter-widgets/controls",
            "_model_module_version": "1.5.0",
            "_model_name": "FloatProgressModel",
            "_view_count": null,
            "_view_module": "@jupyter-widgets/controls",
            "_view_module_version": "1.5.0",
            "_view_name": "ProgressView",
            "bar_style": "success",
            "description": "",
            "description_tooltip": null,
            "layout": "IPY_MODEL_122ea8cf559a46bb9918117f3fa2e53d",
            "max": 422,
            "min": 0,
            "orientation": "horizontal",
            "style": "IPY_MODEL_29b990d590274a3e87132c32226e0a91",
            "value": 422
          }
        },
        "4b7fb3e8845845afb805716ca30ed90f": {
          "model_module": "@jupyter-widgets/controls",
          "model_name": "HTMLModel",
          "model_module_version": "1.5.0",
          "state": {
            "_dom_classes": [],
            "_model_module": "@jupyter-widgets/controls",
            "_model_module_version": "1.5.0",
            "_model_name": "HTMLModel",
            "_view_count": null,
            "_view_module": "@jupyter-widgets/controls",
            "_view_module_version": "1.5.0",
            "_view_name": "HTMLView",
            "description": "",
            "description_tooltip": null,
            "layout": "IPY_MODEL_664830ceb0ed4e7980212450e76d5ff1",
            "placeholder": "​",
            "style": "IPY_MODEL_663abd6f92124c349dd7c32cdd2fe9b8",
            "value": " 422/422 [00:02&lt;00:00, 161.65it/s, SparseCategoricalAccuracy: 0.9707]"
          }
        },
        "b30c89033a594e5989e24ca5e3d0fced": {
          "model_module": "@jupyter-widgets/base",
          "model_name": "LayoutModel",
          "model_module_version": "1.2.0",
          "state": {
            "_model_module": "@jupyter-widgets/base",
            "_model_module_version": "1.2.0",
            "_model_name": "LayoutModel",
            "_view_count": null,
            "_view_module": "@jupyter-widgets/base",
            "_view_module_version": "1.2.0",
            "_view_name": "LayoutView",
            "align_content": null,
            "align_items": null,
            "align_self": null,
            "border": null,
            "bottom": null,
            "display": null,
            "flex": null,
            "flex_flow": null,
            "grid_area": null,
            "grid_auto_columns": null,
            "grid_auto_flow": null,
            "grid_auto_rows": null,
            "grid_column": null,
            "grid_gap": null,
            "grid_row": null,
            "grid_template_areas": null,
            "grid_template_columns": null,
            "grid_template_rows": null,
            "height": null,
            "justify_content": null,
            "justify_items": null,
            "left": null,
            "margin": null,
            "max_height": null,
            "max_width": null,
            "min_height": null,
            "min_width": null,
            "object_fit": null,
            "object_position": null,
            "order": null,
            "overflow": null,
            "overflow_x": null,
            "overflow_y": null,
            "padding": null,
            "right": null,
            "top": null,
            "visibility": null,
            "width": null
          }
        },
        "57ed71a30a1b40739d8d94fd9695ca9b": {
          "model_module": "@jupyter-widgets/base",
          "model_name": "LayoutModel",
          "model_module_version": "1.2.0",
          "state": {
            "_model_module": "@jupyter-widgets/base",
            "_model_module_version": "1.2.0",
            "_model_name": "LayoutModel",
            "_view_count": null,
            "_view_module": "@jupyter-widgets/base",
            "_view_module_version": "1.2.0",
            "_view_name": "LayoutView",
            "align_content": null,
            "align_items": null,
            "align_self": null,
            "border": null,
            "bottom": null,
            "display": null,
            "flex": null,
            "flex_flow": null,
            "grid_area": null,
            "grid_auto_columns": null,
            "grid_auto_flow": null,
            "grid_auto_rows": null,
            "grid_column": null,
            "grid_gap": null,
            "grid_row": null,
            "grid_template_areas": null,
            "grid_template_columns": null,
            "grid_template_rows": null,
            "height": null,
            "justify_content": null,
            "justify_items": null,
            "left": null,
            "margin": null,
            "max_height": null,
            "max_width": null,
            "min_height": null,
            "min_width": null,
            "object_fit": null,
            "object_position": null,
            "order": null,
            "overflow": null,
            "overflow_x": null,
            "overflow_y": null,
            "padding": null,
            "right": null,
            "top": null,
            "visibility": null,
            "width": null
          }
        },
        "61a4bfd7215041c09818560802787ae2": {
          "model_module": "@jupyter-widgets/controls",
          "model_name": "DescriptionStyleModel",
          "model_module_version": "1.5.0",
          "state": {
            "_model_module": "@jupyter-widgets/controls",
            "_model_module_version": "1.5.0",
            "_model_name": "DescriptionStyleModel",
            "_view_count": null,
            "_view_module": "@jupyter-widgets/base",
            "_view_module_version": "1.2.0",
            "_view_name": "StyleView",
            "description_width": ""
          }
        },
        "122ea8cf559a46bb9918117f3fa2e53d": {
          "model_module": "@jupyter-widgets/base",
          "model_name": "LayoutModel",
          "model_module_version": "1.2.0",
          "state": {
            "_model_module": "@jupyter-widgets/base",
            "_model_module_version": "1.2.0",
            "_model_name": "LayoutModel",
            "_view_count": null,
            "_view_module": "@jupyter-widgets/base",
            "_view_module_version": "1.2.0",
            "_view_name": "LayoutView",
            "align_content": null,
            "align_items": null,
            "align_self": null,
            "border": null,
            "bottom": null,
            "display": null,
            "flex": null,
            "flex_flow": null,
            "grid_area": null,
            "grid_auto_columns": null,
            "grid_auto_flow": null,
            "grid_auto_rows": null,
            "grid_column": null,
            "grid_gap": null,
            "grid_row": null,
            "grid_template_areas": null,
            "grid_template_columns": null,
            "grid_template_rows": null,
            "height": null,
            "justify_content": null,
            "justify_items": null,
            "left": null,
            "margin": null,
            "max_height": null,
            "max_width": null,
            "min_height": null,
            "min_width": null,
            "object_fit": null,
            "object_position": null,
            "order": null,
            "overflow": null,
            "overflow_x": null,
            "overflow_y": null,
            "padding": null,
            "right": null,
            "top": null,
            "visibility": null,
            "width": null
          }
        },
        "29b990d590274a3e87132c32226e0a91": {
          "model_module": "@jupyter-widgets/controls",
          "model_name": "ProgressStyleModel",
          "model_module_version": "1.5.0",
          "state": {
            "_model_module": "@jupyter-widgets/controls",
            "_model_module_version": "1.5.0",
            "_model_name": "ProgressStyleModel",
            "_view_count": null,
            "_view_module": "@jupyter-widgets/base",
            "_view_module_version": "1.2.0",
            "_view_name": "StyleView",
            "bar_color": null,
            "description_width": ""
          }
        },
        "664830ceb0ed4e7980212450e76d5ff1": {
          "model_module": "@jupyter-widgets/base",
          "model_name": "LayoutModel",
          "model_module_version": "1.2.0",
          "state": {
            "_model_module": "@jupyter-widgets/base",
            "_model_module_version": "1.2.0",
            "_model_name": "LayoutModel",
            "_view_count": null,
            "_view_module": "@jupyter-widgets/base",
            "_view_module_version": "1.2.0",
            "_view_name": "LayoutView",
            "align_content": null,
            "align_items": null,
            "align_self": null,
            "border": null,
            "bottom": null,
            "display": null,
            "flex": null,
            "flex_flow": null,
            "grid_area": null,
            "grid_auto_columns": null,
            "grid_auto_flow": null,
            "grid_auto_rows": null,
            "grid_column": null,
            "grid_gap": null,
            "grid_row": null,
            "grid_template_areas": null,
            "grid_template_columns": null,
            "grid_template_rows": null,
            "height": null,
            "justify_content": null,
            "justify_items": null,
            "left": null,
            "margin": null,
            "max_height": null,
            "max_width": null,
            "min_height": null,
            "min_width": null,
            "object_fit": null,
            "object_position": null,
            "order": null,
            "overflow": null,
            "overflow_x": null,
            "overflow_y": null,
            "padding": null,
            "right": null,
            "top": null,
            "visibility": null,
            "width": null
          }
        },
        "663abd6f92124c349dd7c32cdd2fe9b8": {
          "model_module": "@jupyter-widgets/controls",
          "model_name": "DescriptionStyleModel",
          "model_module_version": "1.5.0",
          "state": {
            "_model_module": "@jupyter-widgets/controls",
            "_model_module_version": "1.5.0",
            "_model_name": "DescriptionStyleModel",
            "_view_count": null,
            "_view_module": "@jupyter-widgets/base",
            "_view_module_version": "1.2.0",
            "_view_name": "StyleView",
            "description_width": ""
          }
        },
        "e8b71e4c263f4691bd533c83580ae7d9": {
          "model_module": "@jupyter-widgets/controls",
          "model_name": "HBoxModel",
          "model_module_version": "1.5.0",
          "state": {
            "_dom_classes": [],
            "_model_module": "@jupyter-widgets/controls",
            "_model_module_version": "1.5.0",
            "_model_name": "HBoxModel",
            "_view_count": null,
            "_view_module": "@jupyter-widgets/controls",
            "_view_module_version": "1.5.0",
            "_view_name": "HBoxView",
            "box_style": "",
            "children": [
              "IPY_MODEL_159278ee4cb2438a92dfdfecc377706e",
              "IPY_MODEL_d5f45d528526428ba4160b832d00c021",
              "IPY_MODEL_114bbd90082847ecb6bb9df37777250a"
            ],
            "layout": "IPY_MODEL_b9c3a4303e844558a7345fcf2246f38c"
          }
        },
        "159278ee4cb2438a92dfdfecc377706e": {
          "model_module": "@jupyter-widgets/controls",
          "model_name": "HTMLModel",
          "model_module_version": "1.5.0",
          "state": {
            "_dom_classes": [],
            "_model_module": "@jupyter-widgets/controls",
            "_model_module_version": "1.5.0",
            "_model_name": "HTMLModel",
            "_view_count": null,
            "_view_module": "@jupyter-widgets/controls",
            "_view_module_version": "1.5.0",
            "_view_name": "HTMLView",
            "description": "",
            "description_tooltip": null,
            "layout": "IPY_MODEL_d5b1e0dacc6d4dc596310e4097689e5a",
            "placeholder": "​",
            "style": "IPY_MODEL_2fb9361982c54f19b4205d63ccdb4614",
            "value": "Epoch 14: 100%"
          }
        },
        "d5f45d528526428ba4160b832d00c021": {
          "model_module": "@jupyter-widgets/controls",
          "model_name": "FloatProgressModel",
          "model_module_version": "1.5.0",
          "state": {
            "_dom_classes": [],
            "_model_module": "@jupyter-widgets/controls",
            "_model_module_version": "1.5.0",
            "_model_name": "FloatProgressModel",
            "_view_count": null,
            "_view_module": "@jupyter-widgets/controls",
            "_view_module_version": "1.5.0",
            "_view_name": "ProgressView",
            "bar_style": "success",
            "description": "",
            "description_tooltip": null,
            "layout": "IPY_MODEL_3b851c59700d48cbb8efe2177922187c",
            "max": 47,
            "min": 0,
            "orientation": "horizontal",
            "style": "IPY_MODEL_adc772b35ce94dfd8506eb370869d651",
            "value": 47
          }
        },
        "114bbd90082847ecb6bb9df37777250a": {
          "model_module": "@jupyter-widgets/controls",
          "model_name": "HTMLModel",
          "model_module_version": "1.5.0",
          "state": {
            "_dom_classes": [],
            "_model_module": "@jupyter-widgets/controls",
            "_model_module_version": "1.5.0",
            "_model_name": "HTMLModel",
            "_view_count": null,
            "_view_module": "@jupyter-widgets/controls",
            "_view_module_version": "1.5.0",
            "_view_name": "HTMLView",
            "description": "",
            "description_tooltip": null,
            "layout": "IPY_MODEL_fdbbda13e906487f991ec1f7ba791b5e",
            "placeholder": "​",
            "style": "IPY_MODEL_b61d22ad13c74e369ca0a38c787ca6b5",
            "value": " 47/47 [00:00&lt;00:00, 176.10it/s, SparseCategoricalAccuracy: 0.9622]"
          }
        },
        "b9c3a4303e844558a7345fcf2246f38c": {
          "model_module": "@jupyter-widgets/base",
          "model_name": "LayoutModel",
          "model_module_version": "1.2.0",
          "state": {
            "_model_module": "@jupyter-widgets/base",
            "_model_module_version": "1.2.0",
            "_model_name": "LayoutModel",
            "_view_count": null,
            "_view_module": "@jupyter-widgets/base",
            "_view_module_version": "1.2.0",
            "_view_name": "LayoutView",
            "align_content": null,
            "align_items": null,
            "align_self": null,
            "border": null,
            "bottom": null,
            "display": null,
            "flex": null,
            "flex_flow": null,
            "grid_area": null,
            "grid_auto_columns": null,
            "grid_auto_flow": null,
            "grid_auto_rows": null,
            "grid_column": null,
            "grid_gap": null,
            "grid_row": null,
            "grid_template_areas": null,
            "grid_template_columns": null,
            "grid_template_rows": null,
            "height": null,
            "justify_content": null,
            "justify_items": null,
            "left": null,
            "margin": null,
            "max_height": null,
            "max_width": null,
            "min_height": null,
            "min_width": null,
            "object_fit": null,
            "object_position": null,
            "order": null,
            "overflow": null,
            "overflow_x": null,
            "overflow_y": null,
            "padding": null,
            "right": null,
            "top": null,
            "visibility": null,
            "width": null
          }
        },
        "d5b1e0dacc6d4dc596310e4097689e5a": {
          "model_module": "@jupyter-widgets/base",
          "model_name": "LayoutModel",
          "model_module_version": "1.2.0",
          "state": {
            "_model_module": "@jupyter-widgets/base",
            "_model_module_version": "1.2.0",
            "_model_name": "LayoutModel",
            "_view_count": null,
            "_view_module": "@jupyter-widgets/base",
            "_view_module_version": "1.2.0",
            "_view_name": "LayoutView",
            "align_content": null,
            "align_items": null,
            "align_self": null,
            "border": null,
            "bottom": null,
            "display": null,
            "flex": null,
            "flex_flow": null,
            "grid_area": null,
            "grid_auto_columns": null,
            "grid_auto_flow": null,
            "grid_auto_rows": null,
            "grid_column": null,
            "grid_gap": null,
            "grid_row": null,
            "grid_template_areas": null,
            "grid_template_columns": null,
            "grid_template_rows": null,
            "height": null,
            "justify_content": null,
            "justify_items": null,
            "left": null,
            "margin": null,
            "max_height": null,
            "max_width": null,
            "min_height": null,
            "min_width": null,
            "object_fit": null,
            "object_position": null,
            "order": null,
            "overflow": null,
            "overflow_x": null,
            "overflow_y": null,
            "padding": null,
            "right": null,
            "top": null,
            "visibility": null,
            "width": null
          }
        },
        "2fb9361982c54f19b4205d63ccdb4614": {
          "model_module": "@jupyter-widgets/controls",
          "model_name": "DescriptionStyleModel",
          "model_module_version": "1.5.0",
          "state": {
            "_model_module": "@jupyter-widgets/controls",
            "_model_module_version": "1.5.0",
            "_model_name": "DescriptionStyleModel",
            "_view_count": null,
            "_view_module": "@jupyter-widgets/base",
            "_view_module_version": "1.2.0",
            "_view_name": "StyleView",
            "description_width": ""
          }
        },
        "3b851c59700d48cbb8efe2177922187c": {
          "model_module": "@jupyter-widgets/base",
          "model_name": "LayoutModel",
          "model_module_version": "1.2.0",
          "state": {
            "_model_module": "@jupyter-widgets/base",
            "_model_module_version": "1.2.0",
            "_model_name": "LayoutModel",
            "_view_count": null,
            "_view_module": "@jupyter-widgets/base",
            "_view_module_version": "1.2.0",
            "_view_name": "LayoutView",
            "align_content": null,
            "align_items": null,
            "align_self": null,
            "border": null,
            "bottom": null,
            "display": null,
            "flex": null,
            "flex_flow": null,
            "grid_area": null,
            "grid_auto_columns": null,
            "grid_auto_flow": null,
            "grid_auto_rows": null,
            "grid_column": null,
            "grid_gap": null,
            "grid_row": null,
            "grid_template_areas": null,
            "grid_template_columns": null,
            "grid_template_rows": null,
            "height": null,
            "justify_content": null,
            "justify_items": null,
            "left": null,
            "margin": null,
            "max_height": null,
            "max_width": null,
            "min_height": null,
            "min_width": null,
            "object_fit": null,
            "object_position": null,
            "order": null,
            "overflow": null,
            "overflow_x": null,
            "overflow_y": null,
            "padding": null,
            "right": null,
            "top": null,
            "visibility": null,
            "width": null
          }
        },
        "adc772b35ce94dfd8506eb370869d651": {
          "model_module": "@jupyter-widgets/controls",
          "model_name": "ProgressStyleModel",
          "model_module_version": "1.5.0",
          "state": {
            "_model_module": "@jupyter-widgets/controls",
            "_model_module_version": "1.5.0",
            "_model_name": "ProgressStyleModel",
            "_view_count": null,
            "_view_module": "@jupyter-widgets/base",
            "_view_module_version": "1.2.0",
            "_view_name": "StyleView",
            "bar_color": null,
            "description_width": ""
          }
        },
        "fdbbda13e906487f991ec1f7ba791b5e": {
          "model_module": "@jupyter-widgets/base",
          "model_name": "LayoutModel",
          "model_module_version": "1.2.0",
          "state": {
            "_model_module": "@jupyter-widgets/base",
            "_model_module_version": "1.2.0",
            "_model_name": "LayoutModel",
            "_view_count": null,
            "_view_module": "@jupyter-widgets/base",
            "_view_module_version": "1.2.0",
            "_view_name": "LayoutView",
            "align_content": null,
            "align_items": null,
            "align_self": null,
            "border": null,
            "bottom": null,
            "display": null,
            "flex": null,
            "flex_flow": null,
            "grid_area": null,
            "grid_auto_columns": null,
            "grid_auto_flow": null,
            "grid_auto_rows": null,
            "grid_column": null,
            "grid_gap": null,
            "grid_row": null,
            "grid_template_areas": null,
            "grid_template_columns": null,
            "grid_template_rows": null,
            "height": null,
            "justify_content": null,
            "justify_items": null,
            "left": null,
            "margin": null,
            "max_height": null,
            "max_width": null,
            "min_height": null,
            "min_width": null,
            "object_fit": null,
            "object_position": null,
            "order": null,
            "overflow": null,
            "overflow_x": null,
            "overflow_y": null,
            "padding": null,
            "right": null,
            "top": null,
            "visibility": null,
            "width": null
          }
        },
        "b61d22ad13c74e369ca0a38c787ca6b5": {
          "model_module": "@jupyter-widgets/controls",
          "model_name": "DescriptionStyleModel",
          "model_module_version": "1.5.0",
          "state": {
            "_model_module": "@jupyter-widgets/controls",
            "_model_module_version": "1.5.0",
            "_model_name": "DescriptionStyleModel",
            "_view_count": null,
            "_view_module": "@jupyter-widgets/base",
            "_view_module_version": "1.2.0",
            "_view_name": "StyleView",
            "description_width": ""
          }
        },
        "7cdbf291f81b41498813fc66c8299d1b": {
          "model_module": "@jupyter-widgets/controls",
          "model_name": "HBoxModel",
          "model_module_version": "1.5.0",
          "state": {
            "_dom_classes": [],
            "_model_module": "@jupyter-widgets/controls",
            "_model_module_version": "1.5.0",
            "_model_name": "HBoxModel",
            "_view_count": null,
            "_view_module": "@jupyter-widgets/controls",
            "_view_module_version": "1.5.0",
            "_view_name": "HBoxView",
            "box_style": "",
            "children": [
              "IPY_MODEL_ef5bcb6db1094a8caf8af6a28072f46a",
              "IPY_MODEL_622cacff9c414dd59f8d335384a1a2db",
              "IPY_MODEL_cd230b58310b4ef08c59de94cae8ff48"
            ],
            "layout": "IPY_MODEL_b1762a9748b44198bff651d94864838b"
          }
        },
        "ef5bcb6db1094a8caf8af6a28072f46a": {
          "model_module": "@jupyter-widgets/controls",
          "model_name": "HTMLModel",
          "model_module_version": "1.5.0",
          "state": {
            "_dom_classes": [],
            "_model_module": "@jupyter-widgets/controls",
            "_model_module_version": "1.5.0",
            "_model_name": "HTMLModel",
            "_view_count": null,
            "_view_module": "@jupyter-widgets/controls",
            "_view_module_version": "1.5.0",
            "_view_name": "HTMLView",
            "description": "",
            "description_tooltip": null,
            "layout": "IPY_MODEL_29e11d25411f4ec9be7774672a7eb9f4",
            "placeholder": "​",
            "style": "IPY_MODEL_29c6197bbc9b48899b832b0a8c95a5a9",
            "value": "100%"
          }
        },
        "622cacff9c414dd59f8d335384a1a2db": {
          "model_module": "@jupyter-widgets/controls",
          "model_name": "FloatProgressModel",
          "model_module_version": "1.5.0",
          "state": {
            "_dom_classes": [],
            "_model_module": "@jupyter-widgets/controls",
            "_model_module_version": "1.5.0",
            "_model_name": "FloatProgressModel",
            "_view_count": null,
            "_view_module": "@jupyter-widgets/controls",
            "_view_module_version": "1.5.0",
            "_view_name": "ProgressView",
            "bar_style": "success",
            "description": "",
            "description_tooltip": null,
            "layout": "IPY_MODEL_dc0fe0f57dea4410a3d38e2781da960e",
            "max": 79,
            "min": 0,
            "orientation": "horizontal",
            "style": "IPY_MODEL_180f2a8d25c448398e3b1fc73644f946",
            "value": 79
          }
        },
        "cd230b58310b4ef08c59de94cae8ff48": {
          "model_module": "@jupyter-widgets/controls",
          "model_name": "HTMLModel",
          "model_module_version": "1.5.0",
          "state": {
            "_dom_classes": [],
            "_model_module": "@jupyter-widgets/controls",
            "_model_module_version": "1.5.0",
            "_model_name": "HTMLModel",
            "_view_count": null,
            "_view_module": "@jupyter-widgets/controls",
            "_view_module_version": "1.5.0",
            "_view_name": "HTMLView",
            "description": "",
            "description_tooltip": null,
            "layout": "IPY_MODEL_17255301f9644786bf318b9ebb22a739",
            "placeholder": "​",
            "style": "IPY_MODEL_08ac7837f8c548d285edbeec155b7924",
            "value": " 79/79 [00:00&lt;00:00, 182.17it/s, SparseCategoricalAccuracy: 0.9677]"
          }
        },
        "b1762a9748b44198bff651d94864838b": {
          "model_module": "@jupyter-widgets/base",
          "model_name": "LayoutModel",
          "model_module_version": "1.2.0",
          "state": {
            "_model_module": "@jupyter-widgets/base",
            "_model_module_version": "1.2.0",
            "_model_name": "LayoutModel",
            "_view_count": null,
            "_view_module": "@jupyter-widgets/base",
            "_view_module_version": "1.2.0",
            "_view_name": "LayoutView",
            "align_content": null,
            "align_items": null,
            "align_self": null,
            "border": null,
            "bottom": null,
            "display": null,
            "flex": null,
            "flex_flow": null,
            "grid_area": null,
            "grid_auto_columns": null,
            "grid_auto_flow": null,
            "grid_auto_rows": null,
            "grid_column": null,
            "grid_gap": null,
            "grid_row": null,
            "grid_template_areas": null,
            "grid_template_columns": null,
            "grid_template_rows": null,
            "height": null,
            "justify_content": null,
            "justify_items": null,
            "left": null,
            "margin": null,
            "max_height": null,
            "max_width": null,
            "min_height": null,
            "min_width": null,
            "object_fit": null,
            "object_position": null,
            "order": null,
            "overflow": null,
            "overflow_x": null,
            "overflow_y": null,
            "padding": null,
            "right": null,
            "top": null,
            "visibility": null,
            "width": null
          }
        },
        "29e11d25411f4ec9be7774672a7eb9f4": {
          "model_module": "@jupyter-widgets/base",
          "model_name": "LayoutModel",
          "model_module_version": "1.2.0",
          "state": {
            "_model_module": "@jupyter-widgets/base",
            "_model_module_version": "1.2.0",
            "_model_name": "LayoutModel",
            "_view_count": null,
            "_view_module": "@jupyter-widgets/base",
            "_view_module_version": "1.2.0",
            "_view_name": "LayoutView",
            "align_content": null,
            "align_items": null,
            "align_self": null,
            "border": null,
            "bottom": null,
            "display": null,
            "flex": null,
            "flex_flow": null,
            "grid_area": null,
            "grid_auto_columns": null,
            "grid_auto_flow": null,
            "grid_auto_rows": null,
            "grid_column": null,
            "grid_gap": null,
            "grid_row": null,
            "grid_template_areas": null,
            "grid_template_columns": null,
            "grid_template_rows": null,
            "height": null,
            "justify_content": null,
            "justify_items": null,
            "left": null,
            "margin": null,
            "max_height": null,
            "max_width": null,
            "min_height": null,
            "min_width": null,
            "object_fit": null,
            "object_position": null,
            "order": null,
            "overflow": null,
            "overflow_x": null,
            "overflow_y": null,
            "padding": null,
            "right": null,
            "top": null,
            "visibility": null,
            "width": null
          }
        },
        "29c6197bbc9b48899b832b0a8c95a5a9": {
          "model_module": "@jupyter-widgets/controls",
          "model_name": "DescriptionStyleModel",
          "model_module_version": "1.5.0",
          "state": {
            "_model_module": "@jupyter-widgets/controls",
            "_model_module_version": "1.5.0",
            "_model_name": "DescriptionStyleModel",
            "_view_count": null,
            "_view_module": "@jupyter-widgets/base",
            "_view_module_version": "1.2.0",
            "_view_name": "StyleView",
            "description_width": ""
          }
        },
        "dc0fe0f57dea4410a3d38e2781da960e": {
          "model_module": "@jupyter-widgets/base",
          "model_name": "LayoutModel",
          "model_module_version": "1.2.0",
          "state": {
            "_model_module": "@jupyter-widgets/base",
            "_model_module_version": "1.2.0",
            "_model_name": "LayoutModel",
            "_view_count": null,
            "_view_module": "@jupyter-widgets/base",
            "_view_module_version": "1.2.0",
            "_view_name": "LayoutView",
            "align_content": null,
            "align_items": null,
            "align_self": null,
            "border": null,
            "bottom": null,
            "display": null,
            "flex": null,
            "flex_flow": null,
            "grid_area": null,
            "grid_auto_columns": null,
            "grid_auto_flow": null,
            "grid_auto_rows": null,
            "grid_column": null,
            "grid_gap": null,
            "grid_row": null,
            "grid_template_areas": null,
            "grid_template_columns": null,
            "grid_template_rows": null,
            "height": null,
            "justify_content": null,
            "justify_items": null,
            "left": null,
            "margin": null,
            "max_height": null,
            "max_width": null,
            "min_height": null,
            "min_width": null,
            "object_fit": null,
            "object_position": null,
            "order": null,
            "overflow": null,
            "overflow_x": null,
            "overflow_y": null,
            "padding": null,
            "right": null,
            "top": null,
            "visibility": null,
            "width": null
          }
        },
        "180f2a8d25c448398e3b1fc73644f946": {
          "model_module": "@jupyter-widgets/controls",
          "model_name": "ProgressStyleModel",
          "model_module_version": "1.5.0",
          "state": {
            "_model_module": "@jupyter-widgets/controls",
            "_model_module_version": "1.5.0",
            "_model_name": "ProgressStyleModel",
            "_view_count": null,
            "_view_module": "@jupyter-widgets/base",
            "_view_module_version": "1.2.0",
            "_view_name": "StyleView",
            "bar_color": null,
            "description_width": ""
          }
        },
        "17255301f9644786bf318b9ebb22a739": {
          "model_module": "@jupyter-widgets/base",
          "model_name": "LayoutModel",
          "model_module_version": "1.2.0",
          "state": {
            "_model_module": "@jupyter-widgets/base",
            "_model_module_version": "1.2.0",
            "_model_name": "LayoutModel",
            "_view_count": null,
            "_view_module": "@jupyter-widgets/base",
            "_view_module_version": "1.2.0",
            "_view_name": "LayoutView",
            "align_content": null,
            "align_items": null,
            "align_self": null,
            "border": null,
            "bottom": null,
            "display": null,
            "flex": null,
            "flex_flow": null,
            "grid_area": null,
            "grid_auto_columns": null,
            "grid_auto_flow": null,
            "grid_auto_rows": null,
            "grid_column": null,
            "grid_gap": null,
            "grid_row": null,
            "grid_template_areas": null,
            "grid_template_columns": null,
            "grid_template_rows": null,
            "height": null,
            "justify_content": null,
            "justify_items": null,
            "left": null,
            "margin": null,
            "max_height": null,
            "max_width": null,
            "min_height": null,
            "min_width": null,
            "object_fit": null,
            "object_position": null,
            "order": null,
            "overflow": null,
            "overflow_x": null,
            "overflow_y": null,
            "padding": null,
            "right": null,
            "top": null,
            "visibility": null,
            "width": null
          }
        },
        "08ac7837f8c548d285edbeec155b7924": {
          "model_module": "@jupyter-widgets/controls",
          "model_name": "DescriptionStyleModel",
          "model_module_version": "1.5.0",
          "state": {
            "_model_module": "@jupyter-widgets/controls",
            "_model_module_version": "1.5.0",
            "_model_name": "DescriptionStyleModel",
            "_view_count": null,
            "_view_module": "@jupyter-widgets/base",
            "_view_module_version": "1.2.0",
            "_view_name": "StyleView",
            "description_width": ""
          }
        }
      }
    }
  },
  "nbformat": 4,
  "nbformat_minor": 0
}