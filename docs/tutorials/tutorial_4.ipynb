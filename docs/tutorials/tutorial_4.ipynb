{
  "cells": [
    {
      "cell_type": "markdown",
      "metadata": {
        "id": "lGa0_oLb61zz"
      },
      "source": [
        "# Tutorial 4\n",
        "In this tutorial, we are going to directly train the weights and delays of a simple SNN with a single hidden layer using EventProp on the Yin-Yang dataset.\n",
        "\n",
        "## Install\n",
        "Download wheel file"
      ]
    },
    {
      "cell_type": "code",
      "execution_count": null,
      "metadata": {
        "colab": {
          "base_uri": "https://localhost:8080/"
        },
        "id": "t2ihZLXh5VD-",
        "outputId": "b89cfb36-cb83-4b58-cb31-56f9e38ae050"
      },
      "outputs": [
        {
          "output_type": "stream",
          "name": "stdout",
          "text": [
            "Downloading...\n",
            "From: https://drive.google.com/uc?id=1wUeynMCgEOl2oK2LAd4E0s0iT_OiNOfl\n",
            "To: /content/pygenn-5.1.0-cp311-cp311-linux_x86_64.whl\n",
            "\r  0% 0.00/8.49M [00:00<?, ?B/s]\r100% 8.49M/8.49M [00:00<00:00, 76.4MB/s]\r100% 8.49M/8.49M [00:00<00:00, 75.9MB/s]\n",
            "Processing ./pygenn-5.1.0-cp311-cp311-linux_x86_64.whl\n",
            "Requirement already satisfied: numpy>=1.17 in /usr/local/lib/python3.11/dist-packages (from pygenn==5.1.0) (2.0.2)\n",
            "Requirement already satisfied: psutil in /usr/local/lib/python3.11/dist-packages (from pygenn==5.1.0) (5.9.5)\n",
            "Requirement already satisfied: setuptools in /usr/local/lib/python3.11/dist-packages (from pygenn==5.1.0) (75.2.0)\n",
            "pygenn is already installed with the same version as the provided wheel. Use --force-reinstall to force an installation of the wheel.\n",
            "env: CUDA_PATH=/usr/local/cuda\n",
            "--2025-04-24 20:50:04--  https://github.com/genn-team/ml_genn/archive/refs/heads/master.zip\n",
            "Resolving github.com (github.com)... 20.205.243.166\n",
            "Connecting to github.com (github.com)|20.205.243.166|:443... connected.\n",
            "HTTP request sent, awaiting response... 302 Found\n",
            "Location: https://codeload.github.com/genn-team/ml_genn/zip/refs/heads/master [following]\n",
            "--2025-04-24 20:50:04--  https://codeload.github.com/genn-team/ml_genn/zip/refs/heads/master\n",
            "Resolving codeload.github.com (codeload.github.com)... 20.205.243.165\n",
            "Connecting to codeload.github.com (codeload.github.com)|20.205.243.165|:443... connected.\n",
            "HTTP request sent, awaiting response... 200 OK\n",
            "Length: unspecified [application/zip]\n",
            "Saving to: ‘master.zip.4’\n",
            "\n",
            "master.zip.4            [ <=>                ] 680.02K  --.-KB/s    in 0.05s   \n",
            "\n",
            "2025-04-24 20:50:04 (14.0 MB/s) - ‘master.zip.4’ saved [696337]\n",
            "\n",
            "Processing ./ml_genn-master/ml_genn\n",
            "  Preparing metadata (setup.py) ... \u001b[?25l\u001b[?25hdone\n",
            "Requirement already satisfied: pygenn<6.0.0,>=5.1.0 in /usr/local/lib/python3.11/dist-packages (from ml_genn==2.3.0) (5.1.0)\n",
            "Requirement already satisfied: enum-compat in /usr/local/lib/python3.11/dist-packages (from ml_genn==2.3.0) (0.0.3)\n",
            "Requirement already satisfied: tqdm>=4.27.0 in /usr/local/lib/python3.11/dist-packages (from ml_genn==2.3.0) (4.67.1)\n",
            "Requirement already satisfied: deprecated in /usr/local/lib/python3.11/dist-packages (from ml_genn==2.3.0) (1.2.18)\n",
            "Requirement already satisfied: numpy>=1.17 in /usr/local/lib/python3.11/dist-packages (from pygenn<6.0.0,>=5.1.0->ml_genn==2.3.0) (2.0.2)\n",
            "Requirement already satisfied: psutil in /usr/local/lib/python3.11/dist-packages (from pygenn<6.0.0,>=5.1.0->ml_genn==2.3.0) (5.9.5)\n",
            "Requirement already satisfied: setuptools in /usr/local/lib/python3.11/dist-packages (from pygenn<6.0.0,>=5.1.0->ml_genn==2.3.0) (75.2.0)\n",
            "Requirement already satisfied: wrapt<2,>=1.10 in /usr/local/lib/python3.11/dist-packages (from deprecated->ml_genn==2.3.0) (1.17.2)\n",
            "Building wheels for collected packages: ml_genn\n",
            "  Building wheel for ml_genn (setup.py) ... \u001b[?25l\u001b[?25hdone\n",
            "  Created wheel for ml_genn: filename=ml_genn-2.3.0-py3-none-any.whl size=132273 sha256=249fb5eff948320b958a6757c342c47dbbe007729ea28670c40faa56c6b9289e\n",
            "  Stored in directory: /tmp/pip-ephem-wheel-cache-qq2tjfa6/wheels/7e/fe/12/587693a91c5d18fe8e77cbb14313ea2ed33e71a9eb3993089f\n",
            "Successfully built ml_genn\n",
            "Installing collected packages: ml_genn\n",
            "  Attempting uninstall: ml_genn\n",
            "    Found existing installation: ml_genn 2.3.0\n",
            "    Uninstalling ml_genn-2.3.0:\n",
            "      Successfully uninstalled ml_genn-2.3.0\n",
            "Successfully installed ml_genn-2.3.0\n"
          ]
        }
      ],
      "source": [
        "if \"google.colab\" in str(get_ipython()):\n",
        "    !gdown 1wUeynMCgEOl2oK2LAd4E0s0iT_OiNOfl\n",
        "    !pip install pygenn-5.1.0-cp311-cp311-linux_x86_64.whl\n",
        "    %env CUDA_PATH=/usr/local/cuda\n",
        "\n",
        "    !rm -rf /content/ml_genn-master\n",
        "    !wget https://github.com/genn-team/ml_genn/archive/refs/heads/master.zip\n",
        "    !unzip -q master.zip\n",
        "    !pip install ./ml_genn-master/ml_genn"
      ]
    },
    {
      "cell_type": "markdown",
      "metadata": {
        "id": "BwadUz9Azxss"
      },
      "source": [
        "## Build model\n",
        "Import standard modules and required mlGeNN classes"
      ]
    },
    {
      "cell_type": "code",
      "execution_count": null,
      "metadata": {
        "id": "agqWFZjickfU"
      },
      "outputs": [],
      "source": [
        "import numpy as np\n",
        "import matplotlib.pyplot as plt\n",
        "\n",
        "from ml_genn import InputLayer, Layer, SequentialNetwork\n",
        "from ml_genn.callbacks import Checkpoint, OptimiserParamSchedule\n",
        "from ml_genn.compilers import EventPropCompiler, InferenceCompiler\n",
        "from ml_genn.connectivity import Dense\n",
        "from ml_genn.initializers import Normal\n",
        "from ml_genn.neurons import LeakyIntegrate, LeakyIntegrateFire, SpikeInput\n",
        "from ml_genn.optimisers import Adam\n",
        "from ml_genn.serialisers import Numpy\n",
        "from ml_genn.synapses import Exponential\n",
        "\n",
        "from ml_genn.utils.data import generate_yin_yang_dataset\n",
        "\n",
        "from ml_genn.compilers.event_prop_compiler import default_params"
      ]
    },
    {
      "cell_type": "markdown",
      "source": [
        "\n",
        "##Parameters\n",
        "\n",
        "Define some model parameters\n"
      ],
      "metadata": {
        "id": "X2hcCpdlzaZA"
      }
    },
    {
      "cell_type": "code",
      "source": [
        "NUM_INPUT = 5\n",
        "NUM_HIDDEN = 30\n",
        "NUM_OUTPUT = 3\n",
        "BATCH_SIZE = 32\n",
        "DT = 0.01\n",
        "NUM_TRAIN = BATCH_SIZE * 10 * NUM_OUTPUT\n",
        "NUM_TEST = BATCH_SIZE  * 2 * NUM_OUTPUT\n",
        "EXAMPLE_TIME = 30.0"
      ],
      "metadata": {
        "id": "x87G22iUzcEU"
      },
      "execution_count": null,
      "outputs": []
    },
    {
      "cell_type": "markdown",
      "source": [
        "## Yin-yang dataset\n",
        "We use the built in helper function to generate yin-yang data and visualise it:"
      ],
      "metadata": {
        "id": "op6AInYzviqh"
      }
    },
    {
      "cell_type": "code",
      "source": [
        "spikes_train, labels_train = generate_yin_yang_dataset(NUM_TRAIN, EXAMPLE_TIME - (4 * DT), 2 * DT)\n",
        "\n",
        "x, y = zip(*(s.spike_times[1:3] for s in spikes_train))\n",
        "fig, axis = plt.subplots()\n",
        "axis.scatter(x, y, c=labels_train)"
      ],
      "metadata": {
        "id": "2m9780SfvWec"
      },
      "execution_count": null,
      "outputs": []
    },
    {
      "cell_type": "markdown",
      "metadata": {
        "id": "iuwdL6IE2MuS"
      },
      "source": [
        "## Network definition\n",
        "Because our network is entirely feedforward, we can define it as a ``SequentialNetwork`` where each layer is automatically connected to the previous layer. As the yin-yang dataset is already spiking, we will use a ``SpikeInput`` to inject these directly into the network. For our hidden layer we are going to use standard Leaky integrate-and-fire neurons. Finally, we are going to use a spiking output layer and read classifications out of this by determining which output neuron spikes first.\n",
        "\n"
      ]
    },
    {
      "cell_type": "code",
      "execution_count": null,
      "metadata": {
        "id": "C68EDXn6cj-O"
      },
      "outputs": [],
      "source": [
        "# Create sequential model\n",
        "serialiser = Numpy(\"yin_yang_checkpoints\")\n",
        "network = SequentialNetwork(default_params)\n",
        "with network:\n",
        "    # Populations\n",
        "    input = InputLayer(SpikeInput(max_spikes=BATCH_SIZE * NUM_INPUT),\n",
        "                                  NUM_INPUT)\n",
        "    hidden = Layer(Dense(Normal(mean=1.9, sd=0.78)),\n",
        "                   LeakyIntegrateFire(v_thresh=1.0, tau_mem=20.0,\n",
        "                                      tau_refrac=None),\n",
        "                   NUM_HIDDEN, Exponential(5.0),\n",
        "                   max_delay_steps=1000)\n",
        "    output = Layer(Dense(Normal(mean=0.93, sd=0.1)),\n",
        "                   LeakyIntegrateFire(tau_mem=20.0, readout=\"first_spike_time\"),\n",
        "                   NUM_OUTPUT, Exponential(5.0))"
      ]
    },
    {
      "cell_type": "markdown",
      "metadata": {
        "id": "9PCMgNPCz86O"
      },
      "source": [
        "## Compilation\n",
        "In mlGeNN, in order to turn an abstract network description into something that can actually be used for training or inference you use a *compiler* class. Here, we use the ``EventPropCompiler`` to train with EventProp and specify batch size and how many timesteps to evaluate each example for as well as choosing optimisers for weight and delay, the loss function and which connections to learn the delays of. Because this is a classification task, we want to use cross-entropy loss and, because our labels are specified in this way (rather than e.g. one-hot encoded), we use the sparse catgorical variant."
      ]
    },
    {
      "cell_type": "code",
      "execution_count": null,
      "metadata": {
        "id": "-7lzXzmQcgbt"
      },
      "outputs": [],
      "source": [
        "compiler = EventPropCompiler(example_timesteps=int(np.ceil(EXAMPLE_TIME / DT)),\n",
        "                             losses=\"sparse_categorical_crossentropy\",\n",
        "                             optimiser=Adam(0.001), delay_optimiser=Adam(0.1), batch_size=BATCH_SIZE,\n",
        "                             softmax_temperature=0.5, ttfs_alpha=0.1, dt=DT, delay_learn_conns=[hidden])\n",
        "compiled_net = compiler.compile(network)"
      ]
    },
    {
      "cell_type": "markdown",
      "metadata": {
        "id": "ATwobw4Mw2LG"
      },
      "source": [
        "## Training\n",
        "Now we will train the model for 100 epochs using our compiled network. We add additional callbacks to checkpoint weights and to decay all learning rates each epoch.\n",
        "\n"
      ]
    },
    {
      "cell_type": "code",
      "execution_count": null,
      "metadata": {
        "id": "EEQyoL-zcu-A",
        "outputId": "457749d5-f218-447e-f0db-6e241ed04b49",
        "colab": {
          "base_uri": "https://localhost:8080/",
          "height": 49,
          "referenced_widgets": [
            "e9ce57d3a04e468fb17122571aa3c453",
            "efca412937ba4dadafeefa5ffea8e923",
            "3b549a81d92d4fb586f8b6ada0696d6a",
            "8902e404f8e24408be5844d23ee18cf9",
            "6691209868754b6e90cea3b809692262",
            "46bd294dfce942f1af941222030f749e",
            "ee121d776b0d4703b00d42431b7df81d",
            "698238a6ad924d1c84dd7ef1b16c39a7",
            "f29a427eee454a9d9d9bb5c81db7b74a",
            "52bd2b3ace84414dbd6a6c984305e4d6",
            "09350d37aad14852affcf9db53a1437a"
          ]
        }
      },
      "outputs": [
        {
          "output_type": "display_data",
          "data": {
            "text/plain": [
              "  0%|          | 0/30 [00:00<?, ?it/s]"
            ],
            "application/vnd.jupyter.widget-view+json": {
              "version_major": 2,
              "version_minor": 0,
              "model_id": "e9ce57d3a04e468fb17122571aa3c453"
            }
          },
          "metadata": {}
        }
      ],
      "source": [
        "with compiled_net:\n",
        "    callbacks = [\"batch_progress_bar\", Checkpoint(serialiser),\n",
        "                 OptimiserParamSchedule(\"alpha\", lambda epoch, alpha: alpha * 0.998)]\n",
        "    compiled_net.train({input: spikes_train},\n",
        "                       {output: labels_train},\n",
        "                       num_epochs=100, shuffle=True,\n",
        "                       callbacks=callbacks)"
      ]
    },
    {
      "cell_type": "markdown",
      "source": [
        "## Evaluate\n",
        "Load weights checkpointed from last epoch:"
      ],
      "metadata": {
        "id": "eQfD_7KP2gYm"
      }
    },
    {
      "cell_type": "code",
      "source": [
        "network.load((99,), serialiser)"
      ],
      "metadata": {
        "id": "0k429OZXzqOC"
      },
      "execution_count": null,
      "outputs": []
    },
    {
      "cell_type": "markdown",
      "source": [
        "Create an ``InferenceCompiler`` and compile the network for inference:"
      ],
      "metadata": {
        "id": "nSwqjLCu2uAF"
      }
    },
    {
      "cell_type": "code",
      "source": [
        "compiler = InferenceCompiler(evaluate_timesteps=int(np.ceil(EXAMPLE_TIME / DT)),\n",
        "                             reset_in_syn_between_batches=True,\n",
        "                             batch_size=BATCH_SIZE, dt=DT)\n",
        "compiled_net = compiler.compile(network)"
      ],
      "metadata": {
        "id": "ZITrB5w_0Fx4"
      },
      "execution_count": null,
      "outputs": []
    },
    {
      "cell_type": "markdown",
      "source": [
        "Generate a new dataset of yin-yang data and evaluate the model:"
      ],
      "metadata": {
        "id": "kW9KERs80y28"
      }
    },
    {
      "cell_type": "code",
      "source": [
        "spikes_test, labels_test = generate_yin_yang_dataset(NUM_TEST, EXAMPLE_TIME - (4 * DT), 2 * DT)\n",
        "with compiled_net:\n",
        "    compiled_net.evaluate({input: spikes_test},\n",
        "                          {output: labels_test})"
      ],
      "metadata": {
        "id": "6NQDJ1_o0LcY",
        "outputId": "1f4a2b2b-a3bd-41aa-aa05-5d92ab0becc3",
        "colab": {
          "base_uri": "https://localhost:8080/",
          "height": 49,
          "referenced_widgets": [
            "bc6b19e3e27644fa84fc425eab246748",
            "259b860b8f114e5eb83703f71b2ddd21",
            "2df0f9599bb74a738924b13c6e34f020",
            "bd5589538a644c2ca9f06b9c5eea55d5",
            "0f1d6a2514b541cb8a1d49c77c3b4a79",
            "9e4d584b1c57444db8eb8c2b13ba0ffc",
            "e655d75ef00541049bf7cbb9b60a4e51",
            "d7f18e63a4394e839dfc7f0a4d2689b6",
            "c2f2923f6e304e88b199808ea97d33e2",
            "8594d705acc049d79046e36152a66fed",
            "bbd9ec401e7c4a428f851111f6fadd0c"
          ]
        }
      },
      "execution_count": null,
      "outputs": [
        {
          "output_type": "display_data",
          "data": {
            "text/plain": [
              "  0%|          | 0/6 [00:00<?, ?it/s]"
            ],
            "application/vnd.jupyter.widget-view+json": {
              "version_major": 2,
              "version_minor": 0,
              "model_id": "bc6b19e3e27644fa84fc425eab246748"
            }
          },
          "metadata": {}
        }
      ]
    }
  ],
  "metadata": {
    "accelerator": "GPU",
    "colab": {
      "name": "tutorial_1",
      "provenance": []
    },
    "kernelspec": {
      "display_name": "Python 3",
      "language": "python",
      "name": "python3"
    },
    "language_info": {
      "codemirror_mode": {
        "name": "ipython",
        "version": 3
      },
      "file_extension": ".py",
      "mimetype": "text/x-python",
      "name": "python",
      "nbconvert_exporter": "python",
      "pygments_lexer": "ipython3",
      "version": "3.7.7"
    },
    "widgets": {
      "application/vnd.jupyter.widget-state+json": {
        "e9ce57d3a04e468fb17122571aa3c453": {
          "model_module": "@jupyter-widgets/controls",
          "model_name": "HBoxModel",
          "model_module_version": "1.5.0",
          "state": {
            "_dom_classes": [],
            "_model_module": "@jupyter-widgets/controls",
            "_model_module_version": "1.5.0",
            "_model_name": "HBoxModel",
            "_view_count": null,
            "_view_module": "@jupyter-widgets/controls",
            "_view_module_version": "1.5.0",
            "_view_name": "HBoxView",
            "box_style": "",
            "children": [
              "IPY_MODEL_efca412937ba4dadafeefa5ffea8e923",
              "IPY_MODEL_3b549a81d92d4fb586f8b6ada0696d6a",
              "IPY_MODEL_8902e404f8e24408be5844d23ee18cf9"
            ],
            "layout": "IPY_MODEL_6691209868754b6e90cea3b809692262"
          }
        },
        "efca412937ba4dadafeefa5ffea8e923": {
          "model_module": "@jupyter-widgets/controls",
          "model_name": "HTMLModel",
          "model_module_version": "1.5.0",
          "state": {
            "_dom_classes": [],
            "_model_module": "@jupyter-widgets/controls",
            "_model_module_version": "1.5.0",
            "_model_name": "HTMLModel",
            "_view_count": null,
            "_view_module": "@jupyter-widgets/controls",
            "_view_module_version": "1.5.0",
            "_view_name": "HTMLView",
            "description": "",
            "description_tooltip": null,
            "layout": "IPY_MODEL_46bd294dfce942f1af941222030f749e",
            "placeholder": "​",
            "style": "IPY_MODEL_ee121d776b0d4703b00d42431b7df81d",
            "value": "Epoch 99: 100%"
          }
        },
        "3b549a81d92d4fb586f8b6ada0696d6a": {
          "model_module": "@jupyter-widgets/controls",
          "model_name": "FloatProgressModel",
          "model_module_version": "1.5.0",
          "state": {
            "_dom_classes": [],
            "_model_module": "@jupyter-widgets/controls",
            "_model_module_version": "1.5.0",
            "_model_name": "FloatProgressModel",
            "_view_count": null,
            "_view_module": "@jupyter-widgets/controls",
            "_view_module_version": "1.5.0",
            "_view_name": "ProgressView",
            "bar_style": "success",
            "description": "",
            "description_tooltip": null,
            "layout": "IPY_MODEL_698238a6ad924d1c84dd7ef1b16c39a7",
            "max": 30,
            "min": 0,
            "orientation": "horizontal",
            "style": "IPY_MODEL_f29a427eee454a9d9d9bb5c81db7b74a",
            "value": 30
          }
        },
        "8902e404f8e24408be5844d23ee18cf9": {
          "model_module": "@jupyter-widgets/controls",
          "model_name": "HTMLModel",
          "model_module_version": "1.5.0",
          "state": {
            "_dom_classes": [],
            "_model_module": "@jupyter-widgets/controls",
            "_model_module_version": "1.5.0",
            "_model_name": "HTMLModel",
            "_view_count": null,
            "_view_module": "@jupyter-widgets/controls",
            "_view_module_version": "1.5.0",
            "_view_name": "HTMLView",
            "description": "",
            "description_tooltip": null,
            "layout": "IPY_MODEL_52bd2b3ace84414dbd6a6c984305e4d6",
            "placeholder": "​",
            "style": "IPY_MODEL_09350d37aad14852affcf9db53a1437a",
            "value": " 30/30 [00:01&lt;00:00, 23.72it/s, SparseCategoricalAccuracy: 0.9521]"
          }
        },
        "6691209868754b6e90cea3b809692262": {
          "model_module": "@jupyter-widgets/base",
          "model_name": "LayoutModel",
          "model_module_version": "1.2.0",
          "state": {
            "_model_module": "@jupyter-widgets/base",
            "_model_module_version": "1.2.0",
            "_model_name": "LayoutModel",
            "_view_count": null,
            "_view_module": "@jupyter-widgets/base",
            "_view_module_version": "1.2.0",
            "_view_name": "LayoutView",
            "align_content": null,
            "align_items": null,
            "align_self": null,
            "border": null,
            "bottom": null,
            "display": null,
            "flex": null,
            "flex_flow": null,
            "grid_area": null,
            "grid_auto_columns": null,
            "grid_auto_flow": null,
            "grid_auto_rows": null,
            "grid_column": null,
            "grid_gap": null,
            "grid_row": null,
            "grid_template_areas": null,
            "grid_template_columns": null,
            "grid_template_rows": null,
            "height": null,
            "justify_content": null,
            "justify_items": null,
            "left": null,
            "margin": null,
            "max_height": null,
            "max_width": null,
            "min_height": null,
            "min_width": null,
            "object_fit": null,
            "object_position": null,
            "order": null,
            "overflow": null,
            "overflow_x": null,
            "overflow_y": null,
            "padding": null,
            "right": null,
            "top": null,
            "visibility": null,
            "width": null
          }
        },
        "46bd294dfce942f1af941222030f749e": {
          "model_module": "@jupyter-widgets/base",
          "model_name": "LayoutModel",
          "model_module_version": "1.2.0",
          "state": {
            "_model_module": "@jupyter-widgets/base",
            "_model_module_version": "1.2.0",
            "_model_name": "LayoutModel",
            "_view_count": null,
            "_view_module": "@jupyter-widgets/base",
            "_view_module_version": "1.2.0",
            "_view_name": "LayoutView",
            "align_content": null,
            "align_items": null,
            "align_self": null,
            "border": null,
            "bottom": null,
            "display": null,
            "flex": null,
            "flex_flow": null,
            "grid_area": null,
            "grid_auto_columns": null,
            "grid_auto_flow": null,
            "grid_auto_rows": null,
            "grid_column": null,
            "grid_gap": null,
            "grid_row": null,
            "grid_template_areas": null,
            "grid_template_columns": null,
            "grid_template_rows": null,
            "height": null,
            "justify_content": null,
            "justify_items": null,
            "left": null,
            "margin": null,
            "max_height": null,
            "max_width": null,
            "min_height": null,
            "min_width": null,
            "object_fit": null,
            "object_position": null,
            "order": null,
            "overflow": null,
            "overflow_x": null,
            "overflow_y": null,
            "padding": null,
            "right": null,
            "top": null,
            "visibility": null,
            "width": null
          }
        },
        "ee121d776b0d4703b00d42431b7df81d": {
          "model_module": "@jupyter-widgets/controls",
          "model_name": "DescriptionStyleModel",
          "model_module_version": "1.5.0",
          "state": {
            "_model_module": "@jupyter-widgets/controls",
            "_model_module_version": "1.5.0",
            "_model_name": "DescriptionStyleModel",
            "_view_count": null,
            "_view_module": "@jupyter-widgets/base",
            "_view_module_version": "1.2.0",
            "_view_name": "StyleView",
            "description_width": ""
          }
        },
        "698238a6ad924d1c84dd7ef1b16c39a7": {
          "model_module": "@jupyter-widgets/base",
          "model_name": "LayoutModel",
          "model_module_version": "1.2.0",
          "state": {
            "_model_module": "@jupyter-widgets/base",
            "_model_module_version": "1.2.0",
            "_model_name": "LayoutModel",
            "_view_count": null,
            "_view_module": "@jupyter-widgets/base",
            "_view_module_version": "1.2.0",
            "_view_name": "LayoutView",
            "align_content": null,
            "align_items": null,
            "align_self": null,
            "border": null,
            "bottom": null,
            "display": null,
            "flex": null,
            "flex_flow": null,
            "grid_area": null,
            "grid_auto_columns": null,
            "grid_auto_flow": null,
            "grid_auto_rows": null,
            "grid_column": null,
            "grid_gap": null,
            "grid_row": null,
            "grid_template_areas": null,
            "grid_template_columns": null,
            "grid_template_rows": null,
            "height": null,
            "justify_content": null,
            "justify_items": null,
            "left": null,
            "margin": null,
            "max_height": null,
            "max_width": null,
            "min_height": null,
            "min_width": null,
            "object_fit": null,
            "object_position": null,
            "order": null,
            "overflow": null,
            "overflow_x": null,
            "overflow_y": null,
            "padding": null,
            "right": null,
            "top": null,
            "visibility": null,
            "width": null
          }
        },
        "f29a427eee454a9d9d9bb5c81db7b74a": {
          "model_module": "@jupyter-widgets/controls",
          "model_name": "ProgressStyleModel",
          "model_module_version": "1.5.0",
          "state": {
            "_model_module": "@jupyter-widgets/controls",
            "_model_module_version": "1.5.0",
            "_model_name": "ProgressStyleModel",
            "_view_count": null,
            "_view_module": "@jupyter-widgets/base",
            "_view_module_version": "1.2.0",
            "_view_name": "StyleView",
            "bar_color": null,
            "description_width": ""
          }
        },
        "52bd2b3ace84414dbd6a6c984305e4d6": {
          "model_module": "@jupyter-widgets/base",
          "model_name": "LayoutModel",
          "model_module_version": "1.2.0",
          "state": {
            "_model_module": "@jupyter-widgets/base",
            "_model_module_version": "1.2.0",
            "_model_name": "LayoutModel",
            "_view_count": null,
            "_view_module": "@jupyter-widgets/base",
            "_view_module_version": "1.2.0",
            "_view_name": "LayoutView",
            "align_content": null,
            "align_items": null,
            "align_self": null,
            "border": null,
            "bottom": null,
            "display": null,
            "flex": null,
            "flex_flow": null,
            "grid_area": null,
            "grid_auto_columns": null,
            "grid_auto_flow": null,
            "grid_auto_rows": null,
            "grid_column": null,
            "grid_gap": null,
            "grid_row": null,
            "grid_template_areas": null,
            "grid_template_columns": null,
            "grid_template_rows": null,
            "height": null,
            "justify_content": null,
            "justify_items": null,
            "left": null,
            "margin": null,
            "max_height": null,
            "max_width": null,
            "min_height": null,
            "min_width": null,
            "object_fit": null,
            "object_position": null,
            "order": null,
            "overflow": null,
            "overflow_x": null,
            "overflow_y": null,
            "padding": null,
            "right": null,
            "top": null,
            "visibility": null,
            "width": null
          }
        },
        "09350d37aad14852affcf9db53a1437a": {
          "model_module": "@jupyter-widgets/controls",
          "model_name": "DescriptionStyleModel",
          "model_module_version": "1.5.0",
          "state": {
            "_model_module": "@jupyter-widgets/controls",
            "_model_module_version": "1.5.0",
            "_model_name": "DescriptionStyleModel",
            "_view_count": null,
            "_view_module": "@jupyter-widgets/base",
            "_view_module_version": "1.2.0",
            "_view_name": "StyleView",
            "description_width": ""
          }
        },
        "bc6b19e3e27644fa84fc425eab246748": {
          "model_module": "@jupyter-widgets/controls",
          "model_name": "HBoxModel",
          "model_module_version": "1.5.0",
          "state": {
            "_dom_classes": [],
            "_model_module": "@jupyter-widgets/controls",
            "_model_module_version": "1.5.0",
            "_model_name": "HBoxModel",
            "_view_count": null,
            "_view_module": "@jupyter-widgets/controls",
            "_view_module_version": "1.5.0",
            "_view_name": "HBoxView",
            "box_style": "",
            "children": [
              "IPY_MODEL_259b860b8f114e5eb83703f71b2ddd21",
              "IPY_MODEL_2df0f9599bb74a738924b13c6e34f020",
              "IPY_MODEL_bd5589538a644c2ca9f06b9c5eea55d5"
            ],
            "layout": "IPY_MODEL_0f1d6a2514b541cb8a1d49c77c3b4a79"
          }
        },
        "259b860b8f114e5eb83703f71b2ddd21": {
          "model_module": "@jupyter-widgets/controls",
          "model_name": "HTMLModel",
          "model_module_version": "1.5.0",
          "state": {
            "_dom_classes": [],
            "_model_module": "@jupyter-widgets/controls",
            "_model_module_version": "1.5.0",
            "_model_name": "HTMLModel",
            "_view_count": null,
            "_view_module": "@jupyter-widgets/controls",
            "_view_module_version": "1.5.0",
            "_view_name": "HTMLView",
            "description": "",
            "description_tooltip": null,
            "layout": "IPY_MODEL_9e4d584b1c57444db8eb8c2b13ba0ffc",
            "placeholder": "​",
            "style": "IPY_MODEL_e655d75ef00541049bf7cbb9b60a4e51",
            "value": "100%"
          }
        },
        "2df0f9599bb74a738924b13c6e34f020": {
          "model_module": "@jupyter-widgets/controls",
          "model_name": "FloatProgressModel",
          "model_module_version": "1.5.0",
          "state": {
            "_dom_classes": [],
            "_model_module": "@jupyter-widgets/controls",
            "_model_module_version": "1.5.0",
            "_model_name": "FloatProgressModel",
            "_view_count": null,
            "_view_module": "@jupyter-widgets/controls",
            "_view_module_version": "1.5.0",
            "_view_name": "ProgressView",
            "bar_style": "success",
            "description": "",
            "description_tooltip": null,
            "layout": "IPY_MODEL_d7f18e63a4394e839dfc7f0a4d2689b6",
            "max": 6,
            "min": 0,
            "orientation": "horizontal",
            "style": "IPY_MODEL_c2f2923f6e304e88b199808ea97d33e2",
            "value": 6
          }
        },
        "bd5589538a644c2ca9f06b9c5eea55d5": {
          "model_module": "@jupyter-widgets/controls",
          "model_name": "HTMLModel",
          "model_module_version": "1.5.0",
          "state": {
            "_dom_classes": [],
            "_model_module": "@jupyter-widgets/controls",
            "_model_module_version": "1.5.0",
            "_model_name": "HTMLModel",
            "_view_count": null,
            "_view_module": "@jupyter-widgets/controls",
            "_view_module_version": "1.5.0",
            "_view_name": "HTMLView",
            "description": "",
            "description_tooltip": null,
            "layout": "IPY_MODEL_8594d705acc049d79046e36152a66fed",
            "placeholder": "​",
            "style": "IPY_MODEL_bbd9ec401e7c4a428f851111f6fadd0c",
            "value": " 6/6 [00:00&lt;00:00, 22.32it/s, SparseCategoricalAccuracy: 0.9115]"
          }
        },
        "0f1d6a2514b541cb8a1d49c77c3b4a79": {
          "model_module": "@jupyter-widgets/base",
          "model_name": "LayoutModel",
          "model_module_version": "1.2.0",
          "state": {
            "_model_module": "@jupyter-widgets/base",
            "_model_module_version": "1.2.0",
            "_model_name": "LayoutModel",
            "_view_count": null,
            "_view_module": "@jupyter-widgets/base",
            "_view_module_version": "1.2.0",
            "_view_name": "LayoutView",
            "align_content": null,
            "align_items": null,
            "align_self": null,
            "border": null,
            "bottom": null,
            "display": null,
            "flex": null,
            "flex_flow": null,
            "grid_area": null,
            "grid_auto_columns": null,
            "grid_auto_flow": null,
            "grid_auto_rows": null,
            "grid_column": null,
            "grid_gap": null,
            "grid_row": null,
            "grid_template_areas": null,
            "grid_template_columns": null,
            "grid_template_rows": null,
            "height": null,
            "justify_content": null,
            "justify_items": null,
            "left": null,
            "margin": null,
            "max_height": null,
            "max_width": null,
            "min_height": null,
            "min_width": null,
            "object_fit": null,
            "object_position": null,
            "order": null,
            "overflow": null,
            "overflow_x": null,
            "overflow_y": null,
            "padding": null,
            "right": null,
            "top": null,
            "visibility": null,
            "width": null
          }
        },
        "9e4d584b1c57444db8eb8c2b13ba0ffc": {
          "model_module": "@jupyter-widgets/base",
          "model_name": "LayoutModel",
          "model_module_version": "1.2.0",
          "state": {
            "_model_module": "@jupyter-widgets/base",
            "_model_module_version": "1.2.0",
            "_model_name": "LayoutModel",
            "_view_count": null,
            "_view_module": "@jupyter-widgets/base",
            "_view_module_version": "1.2.0",
            "_view_name": "LayoutView",
            "align_content": null,
            "align_items": null,
            "align_self": null,
            "border": null,
            "bottom": null,
            "display": null,
            "flex": null,
            "flex_flow": null,
            "grid_area": null,
            "grid_auto_columns": null,
            "grid_auto_flow": null,
            "grid_auto_rows": null,
            "grid_column": null,
            "grid_gap": null,
            "grid_row": null,
            "grid_template_areas": null,
            "grid_template_columns": null,
            "grid_template_rows": null,
            "height": null,
            "justify_content": null,
            "justify_items": null,
            "left": null,
            "margin": null,
            "max_height": null,
            "max_width": null,
            "min_height": null,
            "min_width": null,
            "object_fit": null,
            "object_position": null,
            "order": null,
            "overflow": null,
            "overflow_x": null,
            "overflow_y": null,
            "padding": null,
            "right": null,
            "top": null,
            "visibility": null,
            "width": null
          }
        },
        "e655d75ef00541049bf7cbb9b60a4e51": {
          "model_module": "@jupyter-widgets/controls",
          "model_name": "DescriptionStyleModel",
          "model_module_version": "1.5.0",
          "state": {
            "_model_module": "@jupyter-widgets/controls",
            "_model_module_version": "1.5.0",
            "_model_name": "DescriptionStyleModel",
            "_view_count": null,
            "_view_module": "@jupyter-widgets/base",
            "_view_module_version": "1.2.0",
            "_view_name": "StyleView",
            "description_width": ""
          }
        },
        "d7f18e63a4394e839dfc7f0a4d2689b6": {
          "model_module": "@jupyter-widgets/base",
          "model_name": "LayoutModel",
          "model_module_version": "1.2.0",
          "state": {
            "_model_module": "@jupyter-widgets/base",
            "_model_module_version": "1.2.0",
            "_model_name": "LayoutModel",
            "_view_count": null,
            "_view_module": "@jupyter-widgets/base",
            "_view_module_version": "1.2.0",
            "_view_name": "LayoutView",
            "align_content": null,
            "align_items": null,
            "align_self": null,
            "border": null,
            "bottom": null,
            "display": null,
            "flex": null,
            "flex_flow": null,
            "grid_area": null,
            "grid_auto_columns": null,
            "grid_auto_flow": null,
            "grid_auto_rows": null,
            "grid_column": null,
            "grid_gap": null,
            "grid_row": null,
            "grid_template_areas": null,
            "grid_template_columns": null,
            "grid_template_rows": null,
            "height": null,
            "justify_content": null,
            "justify_items": null,
            "left": null,
            "margin": null,
            "max_height": null,
            "max_width": null,
            "min_height": null,
            "min_width": null,
            "object_fit": null,
            "object_position": null,
            "order": null,
            "overflow": null,
            "overflow_x": null,
            "overflow_y": null,
            "padding": null,
            "right": null,
            "top": null,
            "visibility": null,
            "width": null
          }
        },
        "c2f2923f6e304e88b199808ea97d33e2": {
          "model_module": "@jupyter-widgets/controls",
          "model_name": "ProgressStyleModel",
          "model_module_version": "1.5.0",
          "state": {
            "_model_module": "@jupyter-widgets/controls",
            "_model_module_version": "1.5.0",
            "_model_name": "ProgressStyleModel",
            "_view_count": null,
            "_view_module": "@jupyter-widgets/base",
            "_view_module_version": "1.2.0",
            "_view_name": "StyleView",
            "bar_color": null,
            "description_width": ""
          }
        },
        "8594d705acc049d79046e36152a66fed": {
          "model_module": "@jupyter-widgets/base",
          "model_name": "LayoutModel",
          "model_module_version": "1.2.0",
          "state": {
            "_model_module": "@jupyter-widgets/base",
            "_model_module_version": "1.2.0",
            "_model_name": "LayoutModel",
            "_view_count": null,
            "_view_module": "@jupyter-widgets/base",
            "_view_module_version": "1.2.0",
            "_view_name": "LayoutView",
            "align_content": null,
            "align_items": null,
            "align_self": null,
            "border": null,
            "bottom": null,
            "display": null,
            "flex": null,
            "flex_flow": null,
            "grid_area": null,
            "grid_auto_columns": null,
            "grid_auto_flow": null,
            "grid_auto_rows": null,
            "grid_column": null,
            "grid_gap": null,
            "grid_row": null,
            "grid_template_areas": null,
            "grid_template_columns": null,
            "grid_template_rows": null,
            "height": null,
            "justify_content": null,
            "justify_items": null,
            "left": null,
            "margin": null,
            "max_height": null,
            "max_width": null,
            "min_height": null,
            "min_width": null,
            "object_fit": null,
            "object_position": null,
            "order": null,
            "overflow": null,
            "overflow_x": null,
            "overflow_y": null,
            "padding": null,
            "right": null,
            "top": null,
            "visibility": null,
            "width": null
          }
        },
        "bbd9ec401e7c4a428f851111f6fadd0c": {
          "model_module": "@jupyter-widgets/controls",
          "model_name": "DescriptionStyleModel",
          "model_module_version": "1.5.0",
          "state": {
            "_model_module": "@jupyter-widgets/controls",
            "_model_module_version": "1.5.0",
            "_model_name": "DescriptionStyleModel",
            "_view_count": null,
            "_view_module": "@jupyter-widgets/base",
            "_view_module_version": "1.2.0",
            "_view_name": "StyleView",
            "description_width": ""
          }
        }
      }
    }
  },
  "nbformat": 4,
  "nbformat_minor": 0
}